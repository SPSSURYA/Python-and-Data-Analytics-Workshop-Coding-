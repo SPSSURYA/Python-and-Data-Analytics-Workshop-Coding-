{
  "nbformat": 4,
  "nbformat_minor": 0,
  "metadata": {
    "colab": {
      "name": "Copy of Copy of Day 2 sesson 2 Example programs.ipynb",
      "provenance": [],
      "collapsed_sections": [],
      "include_colab_link": true
    },
    "kernelspec": {
      "name": "python3",
      "display_name": "Python 3"
    }
  },
  "cells": [
    {
      "cell_type": "markdown",
      "metadata": {
        "id": "view-in-github",
        "colab_type": "text"
      },
      "source": [
        "<a href=\"https://colab.research.google.com/github/SPSSURYA/Python-and-Data-Analytics-Workshop-Coding-/blob/master/Copy_of_Copy_of_Day_2_sesson_2_Example_programs.ipynb\" target=\"_parent\"><img src=\"https://colab.research.google.com/assets/colab-badge.svg\" alt=\"Open In Colab\"/></a>"
      ]
    },
    {
      "cell_type": "code",
      "metadata": {
        "id": "Z_JDqZ8aDRGI",
        "colab_type": "code",
        "colab": {
          "base_uri": "https://localhost:8080/",
          "height": 51
        },
        "outputId": "1825c726-962c-40f3-ddbe-c7dd4d226aa0"
      },
      "source": [
        " \n",
        "dict = {'Name': 'Zara', 'Age': 7};\n",
        "print(\"Start Len : %d\" %  len(dict))\n",
        "dict.clear()\n",
        "print(\"End Len : %d\" %  len(dict))"
      ],
      "execution_count": null,
      "outputs": [
        {
          "output_type": "stream",
          "text": [
            "Start Len : 2\n",
            "End Len : 0\n"
          ],
          "name": "stdout"
        }
      ]
    },
    {
      "cell_type": "markdown",
      "metadata": {
        "id": "MUS1AYM4DlEe",
        "colab_type": "text"
      },
      "source": [
        " Removes all elements of dictionary dict"
      ]
    },
    {
      "cell_type": "markdown",
      "metadata": {
        "id": "QSch9FlUDu4_",
        "colab_type": "text"
      },
      "source": [
        " Returns a list of dict's (key, value) tuple pairs"
      ]
    },
    {
      "cell_type": "code",
      "metadata": {
        "id": "osgiJHv9D3cH",
        "colab_type": "code",
        "colab": {
          "base_uri": "https://localhost:8080/",
          "height": 54
        },
        "outputId": "36e1826d-0a4b-4a65-df20-a2278d22bc08"
      },
      "source": [
        " \n",
        "dict = {'Name': 'Zara', 'Age': 7}\n",
        "print (\"Value : %s\" %  dict.items())"
      ],
      "execution_count": null,
      "outputs": [
        {
          "output_type": "stream",
          "text": [
            "Value : dict_items([('Name', 'Zara'), ('Age', 7)])\n"
          ],
          "name": "stdout"
        }
      ]
    },
    {
      "cell_type": "markdown",
      "metadata": {
        "id": "g85sRS_zEAhs",
        "colab_type": "text"
      },
      "source": [
        " Returns a copy of dictionary dict"
      ]
    },
    {
      "cell_type": "code",
      "metadata": {
        "id": "cmAp76UhEGYA",
        "colab_type": "code",
        "colab": {
          "base_uri": "https://localhost:8080/",
          "height": 54
        },
        "outputId": "118f5a59-5ea2-4d5d-e2a4-f8a168cda66c"
      },
      "source": [
        " \n",
        "dict1 = {'Name': 'Zara', 'Age': 7};\n",
        "dict2 = dict1.copy()\n",
        "print (\"New Dictinary : %s\" %  str(dict2))"
      ],
      "execution_count": null,
      "outputs": [
        {
          "output_type": "stream",
          "text": [
            "New Dictinary : {'Name': 'Zara', 'Age': 7}\n"
          ],
          "name": "stdout"
        }
      ]
    },
    {
      "cell_type": "markdown",
      "metadata": {
        "id": "8LGcq3FJEL_B",
        "colab_type": "text"
      },
      "source": [
        " Python Program to Generate a Dictionary that Contains Numbers (between 1 and n) in the Form (x,x*x)."
      ]
    },
    {
      "cell_type": "code",
      "metadata": {
        "id": "6OOBe1N0EUsH",
        "colab_type": "code",
        "colab": {
          "base_uri": "https://localhost:8080/",
          "height": 51
        },
        "outputId": "a07d06b9-acd2-449a-eba7-a2348a2fe6ed"
      },
      "source": [
        " \n",
        "n=int(input(\"Enter a number:\"))\n",
        "d={x:x*x for x in range(1,n+1)}\n",
        "print(d)"
      ],
      "execution_count": null,
      "outputs": [
        {
          "output_type": "stream",
          "text": [
            "Enter a number:4\n",
            "{1: 1, 2: 4, 3: 9, 4: 16}\n"
          ],
          "name": "stdout"
        }
      ]
    },
    {
      "cell_type": "markdown",
      "metadata": {
        "id": "ZMkTHabYEgAe",
        "colab_type": "text"
      },
      "source": [
        " Python Program to Sum All the Items in a Dictionary"
      ]
    },
    {
      "cell_type": "code",
      "metadata": {
        "id": "nwXHfx4bEn0A",
        "colab_type": "code",
        "colab": {
          "base_uri": "https://localhost:8080/",
          "height": 71
        },
        "outputId": "336346a7-95ca-4164-8dfc-256faa38f7e0"
      },
      "source": [
        " \n",
        "d={'A':100,'B':540,'C':239}\n",
        "print(\"Total sum of values in the dictionary:\")\n",
        "print(sum(d.values()))"
      ],
      "execution_count": null,
      "outputs": [
        {
          "output_type": "stream",
          "text": [
            "Total sum of values in the dictionary:\n",
            "879\n"
          ],
          "name": "stdout"
        }
      ]
    },
    {
      "cell_type": "markdown",
      "metadata": {
        "id": "RjBTnydoEs7g",
        "colab_type": "text"
      },
      "source": [
        " Python Program to Remove the Given Key from a Dictionary"
      ]
    },
    {
      "cell_type": "code",
      "metadata": {
        "id": "Oi-exKOWEzBz",
        "colab_type": "code",
        "colab": {
          "base_uri": "https://localhost:8080/",
          "height": 102
        },
        "outputId": "57a6fa44-e95d-41c6-e5ff-f6d0eccd00fc"
      },
      "source": [
        " \n",
        "d = {'a':1,'b':2,'c':3,'d':4}\n",
        "print(\"Initial dictionary\")\n",
        "print(d)\n",
        "key=input(\"Enter the key to delete(a-d):\")\n",
        "if key in d: \n",
        "    del d[key]\n",
        "else:\n",
        "    print(\"Key not found!\")\n",
        "    exit(0)\n",
        "print(\"Updated dictionary\")\n",
        "print(d)"
      ],
      "execution_count": null,
      "outputs": [
        {
          "output_type": "stream",
          "text": [
            "Initial dictionary\n",
            "{'a': 1, 'b': 2, 'c': 3, 'd': 4}\n",
            "Enter the key to delete(a-d):b\n",
            "Updated dictionary\n",
            "{'a': 1, 'c': 3, 'd': 4}\n"
          ],
          "name": "stdout"
        }
      ]
    },
    {
      "cell_type": "markdown",
      "metadata": {
        "id": "L8HbEJpwFFcS",
        "colab_type": "text"
      },
      "source": [
        " Python Program to add name and mark as key->value pair in  a Dictionary and print it."
      ]
    },
    {
      "cell_type": "code",
      "metadata": {
        "id": "mKrgEAdrFKSS",
        "colab_type": "code",
        "colab": {
          "base_uri": "https://localhost:8080/",
          "height": 207
        },
        "outputId": "f05dd38c-78f9-4c84-c51c-6e2ff04355fc"
      },
      "source": [
        " \n",
        "n=int(input(\"Enter no of records\"))\n",
        "d={}\n",
        "for i in range(1,n+1):\n",
        "    name= input(\"Enter name %d\"%(i))\n",
        "    mark=int(input(\"Enter mark %d\"%(i)))\n",
        "    d[name]=mark\n",
        "    print (d)"
      ],
      "execution_count": null,
      "outputs": [
        {
          "output_type": "stream",
          "text": [
            "Enter no of records3\n",
            "Enter name 1Raju\n",
            "Enter mark 198\n",
            "{'Raju': 98}\n",
            "Enter name 2Pavan\n",
            "Enter mark 286\n",
            "{'Raju': 98, 'Pavan': 86}\n",
            "Enter name 3Puni\n",
            "Enter mark 3100\n",
            "{'Raju': 98, 'Pavan': 86, 'Puni': 100}\n"
          ],
          "name": "stdout"
        }
      ]
    },
    {
      "cell_type": "markdown",
      "metadata": {
        "id": "C78zTjgTFoFq",
        "colab_type": "text"
      },
      "source": [
        " Keys and Values example"
      ]
    },
    {
      "cell_type": "code",
      "metadata": {
        "id": "FHSt40vbFxyq",
        "colab_type": "code",
        "colab": {
          "base_uri": "https://localhost:8080/",
          "height": 149
        },
        "outputId": "05249915-0bb3-4512-ab58-72a1f5bce75f"
      },
      "source": [
        " \n",
        "    d={}\n",
        "    print (\" The dictionary elements are\")\n",
        "    for i in range(1,21):\n",
        "        d[i]=i**2\n",
        "    print (d)\n",
        "    # To print key and values\n",
        "    print (\" Key==> Value are\")\n",
        "    for (k,v) in d.items(): \n",
        "        print(k,\"==>\",v)\n",
        "  # To print key only\n",
        "    print (\"\\nTo print key only\")\n",
        "    for k in d.keys():  \n",
        "        print(k, end=\" \")\n",
        "  #To print value only\n",
        "    print (\"\\nTo print values only\")\n",
        "    for v in d.values():    \n",
        "        print(v, end=\" \")"
      ],
      "execution_count": null,
      "outputs": [
        {
          "output_type": "error",
          "ename": "IndentationError",
          "evalue": "ignored",
          "traceback": [
            "\u001b[0;36m  File \u001b[0;32m\"<ipython-input-5-c220323310d5>\"\u001b[0;36m, line \u001b[0;32m2\u001b[0m\n\u001b[0;31m    d={}\u001b[0m\n\u001b[0m    ^\u001b[0m\n\u001b[0;31mIndentationError\u001b[0m\u001b[0;31m:\u001b[0m unexpected indent\n"
          ]
        }
      ]
    },
    {
      "cell_type": "markdown",
      "metadata": {
        "id": "M3o2Z5ROGDuR",
        "colab_type": "text"
      },
      "source": [
        " Python program to convert 2 digit number   into words"
      ]
    },
    {
      "cell_type": "code",
      "metadata": {
        "id": "mMNvWuIfGKad",
        "colab_type": "code",
        "colab": {
          "base_uri": "https://localhost:8080/",
          "height": 71
        },
        "outputId": "83a07e0c-8b72-4140-a846-6340434324bf"
      },
      "source": [
        " \n",
        "d={0:'',1:'one',2:'two',3:'three',4:'four',5:'five',6:'six',7:'seven',8:'eight',9:'nine',\\\n",
        "   10:'ten',11:'eleven',12:'twelve',13:'thirteen',14:'fourteen',15:'fifteen',16:'sixteen',\\\n",
        "   17:'seventeen',18:'eightteen',19:'nineteen',20:'twenty',30:'thirty',40:'fourty',50:'fifty',\\\n",
        "   60:'sixty',70:'seventy',80:'eighty',90:'ninty'}\n",
        " \n",
        "num=int(input(\"Enter the integer between 1 to 99:\"))\n",
        "if (num<=20):\n",
        "      print(d[num])\n",
        "if(num>20 and num<100):\n",
        "        if num%10==0:       \n",
        "            print(d[num])\n",
        "        else:\n",
        "            print(d[num//10*10]+\" \"+d[num%10])"
      ],
      "execution_count": null,
      "outputs": [
        {
          "output_type": "stream",
          "text": [
            "Enter the integer between 1 to 99:11\n",
            "eleven\n"
          ],
          "name": "stdout"
        }
      ]
    },
    {
      "cell_type": "markdown",
      "metadata": {
        "id": "ATamwByPGSZ6",
        "colab_type": "text"
      },
      "source": [
        " How to sort a dictionary by values in Python"
      ]
    },
    {
      "cell_type": "code",
      "metadata": {
        "id": "raaA79MlGZP1",
        "colab_type": "code",
        "colab": {
          "base_uri": "https://localhost:8080/",
          "height": 71
        },
        "outputId": "f055082d-8a0c-47a6-aa65-803680053053"
      },
      "source": [
        " \n",
        " \n",
        "d = {\"Pierre\": 42, \"Anne\": 33, \"Zoe\": 24}\n",
        "#Use the sorted function and operator module\n",
        "import operator\n",
        "sorted_d = sorted(d.items(), key=operator.itemgetter(1))\n",
        "print(sorted_d)\n",
        "sorted_a= sorted(d.items(), key=operator.itemgetter(1),reverse=True)\n",
        "print(sorted_a)"
      ],
      "execution_count": null,
      "outputs": [
        {
          "output_type": "stream",
          "text": [
            "[('Zoe', 24), ('Anne', 33), ('Pierre', 42)]\n",
            "[('Pierre', 42), ('Anne', 33), ('Zoe', 24)]\n"
          ],
          "name": "stdout"
        }
      ]
    },
    {
      "cell_type": "markdown",
      "metadata": {
        "id": "519v3DMWiKH2",
        "colab_type": "text"
      },
      "source": [
        " Add rollno and marks {name:mark} for n number of students through keyboard in a dictionary and print the marks in descending order with respective name."
      ]
    },
    {
      "cell_type": "code",
      "metadata": {
        "id": "KwNPHN6HiMC5",
        "colab_type": "code",
        "colab": {
          "base_uri": "https://localhost:8080/",
          "height": 207
        },
        "outputId": "a828ea7c-37b2-4a05-bb56-aedb73955438"
      },
      "source": [
        " \n",
        "import operator\n",
        "d={}\n",
        "for i in range(int(input(\"Enter The Number Of Students: \"))):\n",
        "  n=input(f\"Enter The Name Of Student-{i+1}: \")\n",
        "  d[n]=int(input(f\"Enter The Marks Of Student-{i+1}: \"))\n",
        "print(dict(sorted(d.items(), key=operator.itemgetter(1), reverse=True)))"
      ],
      "execution_count": null,
      "outputs": [
        {
          "output_type": "stream",
          "text": [
            "Enter The Number Of Students: 4\n",
            "Enter The Name Of Student-1: Surya\n",
            "Enter The Marks Of Student-1: 98\n",
            "Enter The Name Of Student-2: Prakash\n",
            "Enter The Marks Of Student-2: 88\n",
            "Enter The Name Of Student-3: Punith\n",
            "Enter The Marks Of Student-3: 99\n",
            "Enter The Name Of Student-4: Raja\n",
            "Enter The Marks Of Student-4: 46\n",
            "{'Punith': 99, 'Surya': 98, 'Prakash': 88, 'Raja': 46}\n"
          ],
          "name": "stdout"
        }
      ]
    },
    {
      "cell_type": "markdown",
      "metadata": {
        "id": "yRf7ORo6iZJB",
        "colab_type": "text"
      },
      "source": [
        " \n",
        "Add  name and salary {name:salary} for n number of employees through keyboard in a dictionary and print them in name alphabetical order with salary"
      ]
    },
    {
      "cell_type": "code",
      "metadata": {
        "id": "heLCV4UriwZ8",
        "colab_type": "code",
        "colab": {
          "base_uri": "https://localhost:8080/",
          "height": 207
        },
        "outputId": "421ce284-1f1f-4c85-a2e9-0c9604dbccf8"
      },
      "source": [
        " \n",
        "import operator\n",
        "d={}\n",
        "for i in range(int(input(\"Enter The Number Of Employees: \"))):\n",
        "  n=input(f\"Enter The Name Of Employee-{i+1}: \")\n",
        "  d[n]=int(input(f\"Enter The Salary Of Employee-{i+1}: \"))\n",
        "print(dict(sorted(d.items(), key=operator.itemgetter(0))))"
      ],
      "execution_count": null,
      "outputs": [
        {
          "output_type": "stream",
          "text": [
            "Enter The Number Of Employees: 4\n",
            "Enter The Name Of Employee-1: Surya\n",
            "Enter The Salary Of Employee-1: 98000\n",
            "Enter The Name Of Employee-2: Prakash\n",
            "Enter The Salary Of Employee-2: 66000\n",
            "Enter The Name Of Employee-3: Punith\n",
            "Enter The Salary Of Employee-3: 9999\n",
            "Enter The Name Of Employee-4: Raja\n",
            "Enter The Salary Of Employee-4: 54000\n",
            "{'Prakash': 66000, 'Punith': 9999, 'Raja': 54000, 'Surya': 98000}\n"
          ],
          "name": "stdout"
        }
      ]
    },
    {
      "cell_type": "markdown",
      "metadata": {
        "id": "Dn-0b-5KjYK4",
        "colab_type": "text"
      },
      "source": [
        " Add  name and salary {name:salary} for n number of employees through keyboard in a dictionary and print them in salary  ascending order and  sum, max, min and average of the salaries"
      ]
    },
    {
      "cell_type": "code",
      "metadata": {
        "id": "AJtSw9IMjZbY",
        "colab_type": "code",
        "colab": {
          "base_uri": "https://localhost:8080/",
          "height": 275
        },
        "outputId": "8a530b51-7e0e-45d0-ce12-da77dd2e1d8a"
      },
      "source": [
        " \n",
        "import operator\n",
        "d={}\n",
        "for i in range(int(input(\"Enter The Number Of Employees: \"))):\n",
        "  n=input(f\"Enter The Name Of Employee {i+1}: \")\n",
        "  d[n]=int(input(f\"Enter The Salary Of Employee {i+1}: \"))\n",
        "print(dict(sorted(d.items(), key=operator.itemgetter(1))))\n",
        "print(f\"Sum: {sum(d.values())}\\nMax: {max(d.values())}\\nMin: {min(d.values())}\\nAverage: {sum(d.values())/len(d)}\")"
      ],
      "execution_count": null,
      "outputs": [
        {
          "output_type": "stream",
          "text": [
            "Enter The Number Of Employees: 4\n",
            "Enter The Name Of Employee 1: Surya\n",
            "Enter The Salary Of Employee 1: 98000\n",
            "Enter The Name Of Employee 2: Prakash\n",
            "Enter The Salary Of Employee 2: 77777\n",
            "Enter The Name Of Employee 3: Punith\n",
            "Enter The Salary Of Employee 3: 199999\n",
            "Enter The Name Of Employee 4: Harin\n",
            "Enter The Salary Of Employee 4: 68924\n",
            "{'Harin': 68924, 'Prakash': 77777, 'Surya': 98000, 'Punith': 199999}\n",
            "Sum: 444700\n",
            "Max: 199999\n",
            "Min: 68924\n",
            "Average: 111175.0\n"
          ],
          "name": "stdout"
        }
      ]
    },
    {
      "cell_type": "markdown",
      "metadata": {
        "id": "wFx0_fIHkORQ",
        "colab_type": "text"
      },
      "source": [
        " \n",
        "Add name and salary {name:salary} for n number of employees through keyboard in a dictionary and print only the employees whose salary is greater than 2000 but less than 4000"
      ]
    },
    {
      "cell_type": "code",
      "metadata": {
        "id": "WqnxIs-zkUm5",
        "colab_type": "code",
        "colab": {
          "base_uri": "https://localhost:8080/",
          "height": 173
        },
        "outputId": "821cd09e-ccce-4aed-a365-16e63bb02eee"
      },
      "source": [
        " \n",
        "d={}\n",
        "for i in range(int(input(\"Enter The Number Of Employees : \"))):\n",
        "  n=input(f\"Enter The Name Of Employee {i+1}: \")\n",
        "  d[n]=int(input(f\"Enter The Salary Of Employee {i+1}: \"))\n",
        "print(dict([(k,v) for k,v in d.items() if 2000<v<4000]))"
      ],
      "execution_count": null,
      "outputs": [
        {
          "output_type": "stream",
          "text": [
            "Enter The Number Of Employees : 3\n",
            "Enter The Name Of Employee 1: Harin\n",
            "Enter The Salary Of Employee 1: 87368\n",
            "Enter The Name Of Employee 2: Sidda\n",
            "Enter The Salary Of Employee 2: 3000\n",
            "Enter The Name Of Employee 3: Ramesh\n",
            "Enter The Salary Of Employee 3: 2682\n",
            "{'Sidda': 3000, 'Ramesh': 2682}\n"
          ],
          "name": "stdout"
        }
      ]
    },
    {
      "cell_type": "markdown",
      "metadata": {
        "id": "_lL7ro3clAGi",
        "colab_type": "text"
      },
      "source": [
        " Python program to convert a 3 digit number  into words"
      ]
    },
    {
      "cell_type": "code",
      "metadata": {
        "id": "BNFhjmltlG5N",
        "colab_type": "code",
        "colab": {
          "base_uri": "https://localhost:8080/",
          "height": 71
        },
        "outputId": "f20577ad-2458-4705-eb3d-8cb6553a989b"
      },
      "source": [
        " \n",
        "d={0:'',1:'one',2:'two',3:'three',4:'four',5:'five',6:'six',7:'seven',8:'eight',9:'nine',\\\n",
        "   10:'ten',11:'eleven',12:'twelve',13:'thirteen',14:'fourteen',15:'fifteen',16:'sixteen',\\\n",
        "   17:'seventeen',18:'eightteen',19:'nineteen',20:'twenty',30:'thirty',40:'fourty',50:'fifty',\\\n",
        "   60:'sixty',70:'seventy',80:'eighty',90:'ninty',100:'One hundred',200:'Two hundred',300:'three hundred',400:'four hundred',500:'five hundred',600:'six hundred',700:'seven hundred',800:'eight hundred',900:'nine hundred'}\n",
        "num=int(input(\"Enter the integer between 100 to 999:\"))\n",
        "print(f\"{d[num//100*100]} {d[((num//10)%10)*10]} {d[num%10]}\")"
      ],
      "execution_count": null,
      "outputs": [
        {
          "output_type": "stream",
          "text": [
            "Enter the integer between 100 to 999:456\n",
            "four hundred fifty six\n"
          ],
          "name": "stdout"
        }
      ]
    },
    {
      "cell_type": "markdown",
      "metadata": {
        "id": "NU8lLkY3lvLO",
        "colab_type": "text"
      },
      "source": [
        "FILES EXAMPLES"
      ]
    },
    {
      "cell_type": "markdown",
      "metadata": {
        "id": "SX50cuhXG246",
        "colab_type": "text"
      },
      "source": [
        " Python Program to count the number of lines in a text file."
      ]
    },
    {
      "cell_type": "code",
      "metadata": {
        "id": "wwOzxVbPG3_I",
        "colab_type": "code",
        "colab": {
          "base_uri": "https://localhost:8080/",
          "height": 68
        },
        "outputId": "901be88f-75a0-40d4-ac0f-0c4884eadc26"
      },
      "source": [
        " \n",
        "fname = input(\"Enter file name: \")\n",
        "num_lines = 0 \n",
        "with open(fname, 'r') as f:\n",
        "    for line in f:\n",
        "        num_lines += 1\n",
        "print(\"Number of lines:\")\n",
        "print(num_lines)"
      ],
      "execution_count": null,
      "outputs": [
        {
          "output_type": "stream",
          "text": [
            "Enter file name: /sps.txt\n",
            "Number of lines:\n",
            "2\n"
          ],
          "name": "stdout"
        }
      ]
    },
    {
      "cell_type": "markdown",
      "metadata": {
        "id": "b99iqmOyB2cF",
        "colab_type": "text"
      },
      "source": [
        " Python Program to count the number of words in a text file."
      ]
    },
    {
      "cell_type": "code",
      "metadata": {
        "id": "gYIvWLHpB3ov",
        "colab_type": "code",
        "colab": {
          "base_uri": "https://localhost:8080/",
          "height": 68
        },
        "outputId": "eeb21e0c-340c-4920-f5a6-5058ad7848d8"
      },
      "source": [
        " \n",
        "fname = input(\"Enter file name: \")\n",
        "num_words = 0\n",
        "with open(fname, 'r') as f:\n",
        "    for line in f:\n",
        "        words = line.split()\n",
        "        num_words += len(words)\n",
        "print(\"Number of words:\")\n",
        "print(num_words)"
      ],
      "execution_count": null,
      "outputs": [
        {
          "output_type": "stream",
          "text": [
            "Enter file name: /sps.txt\n",
            "Number of words:\n",
            "3\n"
          ],
          "name": "stdout"
        }
      ]
    },
    {
      "cell_type": "markdown",
      "metadata": {
        "id": "yCaCkwLtmBBF",
        "colab_type": "text"
      },
      "source": [
        " Python Program to count the occurrences of a word in a text file."
      ]
    },
    {
      "cell_type": "code",
      "metadata": {
        "id": "QCwNixKsmGNr",
        "colab_type": "code",
        "colab": {
          "base_uri": "https://localhost:8080/",
          "height": 85
        },
        "outputId": "50d2dcaf-4794-4a1b-9f82-49207cd7c60b"
      },
      "source": [
        " \n",
        "fname = input(\"Enter file name: \")\n",
        "word=input(\"Enter word to be searched:\")\n",
        "k = 0\n",
        " \n",
        "with open(fname, 'r') as f:\n",
        "    for line in f:\n",
        "        words = line.split()\n",
        "        for i in words:\n",
        "            if(i==word):\n",
        "                k=k+1\n",
        "print(\"Occurrences of the word:\")\n",
        "print(k)"
      ],
      "execution_count": null,
      "outputs": [
        {
          "output_type": "stream",
          "text": [
            "Enter file name: /sps.txt\n",
            "Enter word to be searched:surya\n",
            "Occurrences of the word:\n",
            "1\n"
          ],
          "name": "stdout"
        }
      ]
    },
    {
      "cell_type": "markdown",
      "metadata": {
        "id": "i9OzAqY2mOvg",
        "colab_type": "text"
      },
      "source": [
        " Python Program to copy the contents of one file into another"
      ]
    },
    {
      "cell_type": "code",
      "metadata": {
        "id": "GTnxdp0jmt5g",
        "colab_type": "code",
        "colab": {}
      },
      "source": [
        " \n",
        "with open(\"/sps.txt\") as f:\n",
        "    with open(\"out.txt\", \"w\") as f1:\n",
        "        for line in f:\n",
        "            f1.write(line)"
      ],
      "execution_count": null,
      "outputs": []
    },
    {
      "cell_type": "markdown",
      "metadata": {
        "id": "jh1e-9dbm6A9",
        "colab_type": "text"
      },
      "source": [
        " Python Program to read the contents of the file in reverse order."
      ]
    },
    {
      "cell_type": "code",
      "metadata": {
        "id": "gpTOMSnYnAui",
        "colab_type": "code",
        "colab": {
          "base_uri": "https://localhost:8080/",
          "height": 68
        },
        "outputId": "7e0bb585-70d4-4f66-ee2d-e0814a4d0c49"
      },
      "source": [
        " \n",
        " filename=input(\"Enter file name: \")\n",
        "    \n",
        "with open (filename,'r') as f:\n",
        "    for line in f:\n",
        "        l=line.split()\n",
        "        l.reverse() \n",
        "        st= \" \".join(l)\n",
        "        print (st)"
      ],
      "execution_count": null,
      "outputs": [
        {
          "output_type": "stream",
          "text": [
            "Enter file name: /sps.txt\n",
            "praksh surya\n",
            "mijar\n"
          ],
          "name": "stdout"
        }
      ]
    },
    {
      "cell_type": "markdown",
      "metadata": {
        "id": "2CZJlJLCnKZl",
        "colab_type": "text"
      },
      "source": [
        " Python Program to count the total number of charaters (except blank space) in a text file."
      ]
    },
    {
      "cell_type": "code",
      "metadata": {
        "id": "XzMZ3hAdn75e",
        "colab_type": "code",
        "colab": {
          "base_uri": "https://localhost:8080/",
          "height": 34
        },
        "outputId": "54dcebb9-cbc8-44b3-c028-2d4c8beec6ae"
      },
      "source": [
        "f=open(\"/sps.txt\",\"r\")\n",
        "t=f.read()\n",
        "c=0\n",
        "for i in t:\n",
        "  if(i!=\" \" and i!='\\n'):\n",
        "    c+=1\n",
        "print(c)\n"
      ],
      "execution_count": null,
      "outputs": [
        {
          "output_type": "stream",
          "text": [
            "16\n"
          ],
          "name": "stdout"
        }
      ]
    },
    {
      "cell_type": "markdown",
      "metadata": {
        "id": "jlgc8V7bnSDr",
        "colab_type": "text"
      },
      "source": [
        " Python Program to print all the numbers present in a text file with its total number of occurrence."
      ]
    },
    {
      "cell_type": "code",
      "metadata": {
        "id": "93yPKnCun2-S",
        "colab_type": "code",
        "colab": {
          "base_uri": "https://localhost:8080/",
          "height": 102
        },
        "outputId": "675fa733-c98f-4923-e6a2-418851f4f93f"
      },
      "source": [
        "file_txt = open(\"/sps1.txt\",\"r\")\t\t\n",
        "text = file_txt.read()\t\n",
        "w = []\t\n",
        "d = dict() \n",
        "for line in text: \n",
        "    line = line.strip() \t\n",
        "    if(line.isdigit()):\n",
        "           w.append(line)\n",
        "for j in w:\n",
        "      if j in d:\n",
        "        d[j] = d[j] + 1\n",
        "      else: \n",
        "            d[j] = 1 \n",
        "for key in list(d.keys()): \n",
        "    print(key, \":\", d[key])"
      ],
      "execution_count": null,
      "outputs": [
        {
          "output_type": "stream",
          "text": [
            "1 : 2\n",
            "2 : 2\n",
            "3 : 2\n",
            "4 : 2\n",
            "5 : 2\n"
          ],
          "name": "stdout"
        }
      ]
    },
    {
      "cell_type": "markdown",
      "metadata": {
        "id": "8ix4thKSnZLD",
        "colab_type": "text"
      },
      "source": [
        " Python Program to append the contents of one file to another file by getting the both file names through keyboard"
      ]
    },
    {
      "cell_type": "code",
      "metadata": {
        "id": "NlyMAZq2n1XS",
        "colab_type": "code",
        "colab": {
          "base_uri": "https://localhost:8080/",
          "height": 51
        },
        "outputId": "b277b6b4-d40f-4a5c-fe15-53ea85348dd5"
      },
      "source": [
        "name1 = input(\"Enter file to be read from: \")\n",
        "name2 = input(\"Enter file to be appended to: \")\n",
        "fin = open(name1, \"r\")\n",
        "data2 = fin.read()\n",
        "fin.close()\n",
        "fout = open(name2, \"a\")\n",
        "fout.write(data2)\n",
        "fout.close()"
      ],
      "execution_count": null,
      "outputs": [
        {
          "output_type": "stream",
          "text": [
            "Enter file to be read from: /sps.txt\n",
            "Enter file to be appended to: /sps1.txt\n"
          ],
          "name": "stdout"
        }
      ]
    },
    {
      "cell_type": "markdown",
      "metadata": {
        "id": "LOw1vy8MneBl",
        "colab_type": "text"
      },
      "source": [
        " Python Program to count the number of blank spaces in a text file."
      ]
    },
    {
      "cell_type": "code",
      "metadata": {
        "id": "XX9Mf320nzCn",
        "colab_type": "code",
        "colab": {
          "base_uri": "https://localhost:8080/",
          "height": 34
        },
        "outputId": "ab50c941-4cdd-4236-aada-1ca872a01bc6"
      },
      "source": [
        "file_txt = open(\"/sps.txt\",\"r\")\t\t\n",
        "text = file_txt.read()\t\t\t\n",
        "charc = 0\t\n",
        "for i in text:\t\t\t\t\n",
        "\tif(i == \" \"):\n",
        "\t\t charc += 1\n",
        " \n",
        "print (\"total num of spaces: \",charc);"
      ],
      "execution_count": null,
      "outputs": [
        {
          "output_type": "stream",
          "text": [
            "total num of spaces:  1\n"
          ],
          "name": "stdout"
        }
      ]
    },
    {
      "cell_type": "markdown",
      "metadata": {
        "id": "dF9B5DhVni8R",
        "colab_type": "text"
      },
      "source": [
        " \n",
        "Python Program to read a file and capitalize the first letter of every word in the file and copy the every word capitalized content  into another file and read it ."
      ]
    },
    {
      "cell_type": "code",
      "metadata": {
        "id": "bfXVwEernxk3",
        "colab_type": "code",
        "colab": {
          "base_uri": "https://localhost:8080/",
          "height": 68
        },
        "outputId": "ef10bbf3-88dc-45d4-cbac-afb99ca2130f"
      },
      "source": [
        "with open('/sps.txt', 'r') as f:\n",
        "  with open(\"sps2.txt\", \"w\") as f1:\n",
        "    for line in f:\n",
        "        l=line.title()\n",
        "        f1.write(l)\n",
        "file2=open(\"sps2.txt\",'r')\n",
        "line=file2.readline()\n",
        "while(line!=\"\"):\n",
        "    print(line)\n",
        "    line=file2.readline()\n",
        "file2.close()"
      ],
      "execution_count": null,
      "outputs": [
        {
          "output_type": "stream",
          "text": [
            "Surya Praksh\n",
            "\n",
            "Mijar\n"
          ],
          "name": "stdout"
        }
      ]
    }
  ]
}
