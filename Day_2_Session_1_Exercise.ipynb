{
  "nbformat": 4,
  "nbformat_minor": 0,
  "metadata": {
    "colab": {
      "name": "Day 2 Session 1 Exercise.ipynb",
      "provenance": [],
      "authorship_tag": "ABX9TyNjd09Ps4HyLeSZXn0H7TQl",
      "include_colab_link": true
    },
    "kernelspec": {
      "name": "python3",
      "display_name": "Python 3"
    }
  },
  "cells": [
    {
      "cell_type": "markdown",
      "metadata": {
        "id": "view-in-github",
        "colab_type": "text"
      },
      "source": [
        "<a href=\"https://colab.research.google.com/github/SPSSURYA/Python-and-Data-Analytics-Workshop-Coding-/blob/master/Day_2_Session_1_Exercise.ipynb\" target=\"_parent\"><img src=\"https://colab.research.google.com/assets/colab-badge.svg\" alt=\"Open In Colab\"/></a>"
      ]
    },
    {
      "cell_type": "markdown",
      "metadata": {
        "id": "iesXHmqgMssI",
        "colab_type": "text"
      },
      "source": [
        " print multiples of 3 upto 200 using a list"
      ]
    },
    {
      "cell_type": "code",
      "metadata": {
        "id": "BWVqZcthMv4W",
        "colab_type": "code",
        "outputId": "2768acb3-4000-4bfc-fe12-81b00154d8dc",
        "colab": {
          "base_uri": "https://localhost:8080/",
          "height": 54
        }
      },
      "source": [
        " \n",
        "def multiple(m, n): \n",
        "    a = range(n, (m * n)+1, n)   \n",
        "    print(*a)   \n",
        "m = 66\n",
        "n = 3\n",
        "multiple(m, n)"
      ],
      "execution_count": 0,
      "outputs": [
        {
          "output_type": "stream",
          "text": [
            "3 6 9 12 15 18 21 24 27 30 33 36 39 42 45 48 51 54 57 60 63 66 69 72 75 78 81 84 87 90 93 96 99 102 105 108 111 114 117 120 123 126 129 132 135 138 141 144 147 150 153 156 159 162 165 168 171 174 177 180 183 186 189 192 195 198\n"
          ],
          "name": "stdout"
        }
      ]
    },
    {
      "cell_type": "markdown",
      "metadata": {
        "id": "4SYBUQ8d7qda",
        "colab_type": "text"
      },
      "source": [
        " print the nos only divisable by 5 and 7 between 1000 and 2000 using a list( both inclusive)"
      ]
    },
    {
      "cell_type": "code",
      "metadata": {
        "id": "L3zzDiUb7fy8",
        "colab_type": "code",
        "outputId": "9db3aedd-0a2a-4a58-f547-89e8cad9b5cd",
        "colab": {
          "base_uri": "https://localhost:8080/",
          "height": 54
        }
      },
      "source": [
        " \n",
        "nl=[]\n",
        "for x in range(1000, 2000):\n",
        "    if (x%7==0) and (x%5==0):\n",
        "        nl.append(str(x))\n",
        "print (','.join(nl))"
      ],
      "execution_count": 0,
      "outputs": [
        {
          "output_type": "stream",
          "text": [
            "1015,1050,1085,1120,1155,1190,1225,1260,1295,1330,1365,1400,1435,1470,1505,1540,1575,1610,1645,1680,1715,1750,1785,1820,1855,1890,1925,1960,1995\n"
          ],
          "name": "stdout"
        }
      ]
    },
    {
      "cell_type": "markdown",
      "metadata": {
        "id": "ESF0UV9dRJsv",
        "colab_type": "text"
      },
      "source": [
        " \n",
        "Add the n number of names in a list and print them alphabetically and reverse alphabetically."
      ]
    },
    {
      "cell_type": "code",
      "metadata": {
        "id": "jN_dyyKWRME0",
        "colab_type": "code",
        "outputId": "aaed679f-8eae-4318-dea6-7a7181d731d9",
        "colab": {
          "base_uri": "https://localhost:8080/",
          "height": 190
        }
      },
      "source": [
        " \n",
        "locations = list(input().split())\n",
        " \n",
        "print(\"Original order:\")\n",
        "print(locations)\n",
        " \n",
        "print(\"\\nAlphabetical:\")\n",
        "print(sorted(locations))\n",
        "print(\"\\nReverse alphabetical:\")\n",
        "print(sorted(locations, reverse=True))"
      ],
      "execution_count": 0,
      "outputs": [
        {
          "output_type": "stream",
          "text": [
            "Surya Prakash Raja Punith\n",
            "Original order:\n",
            "['Surya', 'Prakash', 'Raja', 'Punith']\n",
            "\n",
            "Alphabetical:\n",
            "['Prakash', 'Punith', 'Raja', 'Surya']\n",
            "\n",
            "Reverse alphabetical:\n",
            "['Surya', 'Raja', 'Punith', 'Prakash']\n"
          ],
          "name": "stdout"
        }
      ]
    },
    {
      "cell_type": "markdown",
      "metadata": {
        "id": "KY0QW1CoRrcw",
        "colab_type": "text"
      },
      "source": [
        " Print  perfect squares and divisible by 5 between 500 and 1000( (both inclusive) using list"
      ]
    },
    {
      "cell_type": "code",
      "metadata": {
        "id": "pOPx_ePWR0c5",
        "colab_type": "code",
        "outputId": "adb00dad-86db-4fff-a62c-9d36b077675d",
        "colab": {
          "base_uri": "https://localhost:8080/",
          "height": 139
        }
      },
      "source": [
        " \n",
        "lower=int(input(\"Enter lower range limit:\"))\n",
        "upper=int(input(\"Enter upper range limit:\"))\n",
        "n=int(input(\"Enter the number to be divided by:\"))\n",
        "for i in range(lower,upper+1):\n",
        "    if(i%n==0):\n",
        "        print(i)"
      ],
      "execution_count": 0,
      "outputs": [
        {
          "output_type": "stream",
          "text": [
            "Enter lower range limit:20\n",
            "Enter upper range limit:44\n",
            "Enter the number to be divided by:8\n",
            "24\n",
            "32\n",
            "40\n"
          ],
          "name": "stdout"
        }
      ]
    },
    {
      "cell_type": "markdown",
      "metadata": {
        "id": "eKilb00qSOlT",
        "colab_type": "text"
      },
      "source": [
        "TUPLES"
      ]
    },
    {
      "cell_type": "markdown",
      "metadata": {
        "id": "e8t-QDsdYnbc",
        "colab_type": "text"
      },
      "source": [
        " Get  a string and store word by word as elements in a tuple and find the largest word in the  tuple and print it"
      ]
    },
    {
      "cell_type": "code",
      "metadata": {
        "id": "4NrESEklYqI-",
        "colab_type": "code",
        "outputId": "c3acfe3f-8ff5-42ad-8c25-42f7ce4617ec",
        "colab": {
          "base_uri": "https://localhost:8080/",
          "height": 156
        }
      },
      "source": [
        " \n",
        "a=[]\n",
        "n= int(input(\"Enter the number of elements in list:\"))\n",
        "for x in range(0,n):\n",
        "    element=input(\"Enter element\" + str(x+1) + \":\")\n",
        "    a.append(element)\n",
        "max1=len(a[0])\n",
        "temp=a[0]\n",
        "for i in a:\n",
        "    if(len(i)>max1):\n",
        "       max1=len(i)\n",
        "       temp=i\n",
        "print(\"The word with the longest length is:\")\n",
        "print(temp)"
      ],
      "execution_count": 0,
      "outputs": [
        {
          "output_type": "stream",
          "text": [
            "Enter the number of elements in list:4\n",
            "Enter element1:4\n",
            "Enter element2:11\n",
            "Enter element3:6\n",
            "Enter element4:1\n",
            "The word with the longest length is:\n",
            "11\n"
          ],
          "name": "stdout"
        }
      ]
    },
    {
      "cell_type": "markdown",
      "metadata": {
        "id": "vRaq256_Ziue",
        "colab_type": "text"
      },
      "source": [
        " Get rollno and marks (Rollno, mark) as list of tuples for n number of students through keyboard  and print them in marks descending order with rollno"
      ]
    },
    {
      "cell_type": "code",
      "metadata": {
        "id": "59gNwWxCZkJz",
        "colab_type": "code",
        "outputId": "4c2e4801-4776-46c9-ebeb-33c0e36c77ba",
        "colab": {
          "base_uri": "https://localhost:8080/",
          "height": 207
        }
      },
      "source": [
        " print(sorted([(input(\"Enter rollno: \"), input(\"Enter marks: \")) for i in range(int(input(\"Enter number of students\")))], key=lambda x: x[1],reverse=True))"
      ],
      "execution_count": 0,
      "outputs": [
        {
          "output_type": "stream",
          "text": [
            "Enter number of students4\n",
            "Enter rollno: 101\n",
            "Enter marks: 98\n",
            "Enter rollno: 108\n",
            "Enter marks: 86\n",
            "Enter rollno: 064\n",
            "Enter marks: 99\n",
            "Enter rollno: 084\n",
            "Enter marks: 64\n",
            "[('064', '99'), ('101', '98'), ('108', '86'), ('084', '64')]\n"
          ],
          "name": "stdout"
        }
      ]
    },
    {
      "cell_type": "markdown",
      "metadata": {
        "id": "0cLJBHjaaGww",
        "colab_type": "text"
      },
      "source": [
        " Get name and salary (name, salary) as list of tuples for n number of employees through keyboard  and print them in name alphabetical order with salary"
      ]
    },
    {
      "cell_type": "code",
      "metadata": {
        "id": "G2upsMdiaOjp",
        "colab_type": "code",
        "outputId": "3500cca5-c6f8-4e17-d6cb-f0653811e13c",
        "colab": {
          "base_uri": "https://localhost:8080/",
          "height": 207
        }
      },
      "source": [
        " print(sorted([(input(\"Enter name: \"), input(\"Enter salary: \")) for i in range(int(input(\"Enter number of employees\")))], key=lambda x: x[0]))"
      ],
      "execution_count": 0,
      "outputs": [
        {
          "output_type": "stream",
          "text": [
            "Enter number of employees4\n",
            "Enter name: Surya\n",
            "Enter salary: 88000\n",
            "Enter name: Prakash\n",
            "Enter salary: 98000\n",
            "Enter name: Punith\n",
            "Enter salary: 99999\n",
            "Enter name: Raja\n",
            "Enter salary: 43000\n",
            "[('Prakash', '98000'), ('Punith', '99999'), ('Raja', '43000'), ('Surya', '88000')]\n"
          ],
          "name": "stdout"
        }
      ]
    }
  ]
}