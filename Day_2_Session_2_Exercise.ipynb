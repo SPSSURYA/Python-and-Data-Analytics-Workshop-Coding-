{
  "nbformat": 4,
  "nbformat_minor": 0,
  "metadata": {
    "colab": {
      "name": "Day 2 Session 2 Exercise.ipynb",
      "provenance": [],
      "include_colab_link": true
    },
    "kernelspec": {
      "name": "python3",
      "display_name": "Python 3"
    }
  },
  "cells": [
    {
      "cell_type": "markdown",
      "metadata": {
        "id": "view-in-github",
        "colab_type": "text"
      },
      "source": [
        "<a href=\"https://colab.research.google.com/github/SPSSURYA/Python-and-Data-Analytics-Workshop-Coding-/blob/master/Day_2_Session_2_Exercise.ipynb\" target=\"_parent\"><img src=\"https://colab.research.google.com/assets/colab-badge.svg\" alt=\"Open In Colab\"/></a>"
      ]
    },
    {
      "cell_type": "markdown",
      "metadata": {
        "id": "7Pw5YEGfb4bC",
        "colab_type": "text"
      },
      "source": [
        "# Dictionary Exercises"
      ]
    },
    {
      "cell_type": "markdown",
      "metadata": {
        "id": "NQ4NNHoEcB6i",
        "colab_type": "text"
      },
      "source": [
        "# \tAdd rollno and marks {name:mark} for n number of students through keyboard in a dictionary and print the marks in descending order with respective name."
      ]
    },
    {
      "cell_type": "code",
      "metadata": {
        "id": "nbXsmA40cFRb",
        "colab_type": "code",
        "colab": {
          "base_uri": "https://localhost:8080/",
          "height": 190
        },
        "outputId": "317eb39c-e2e9-4032-e3d7-816b8bef234c"
      },
      "source": [
        "n=int(input(\"Enter the number of records \"))\n",
        "d={}\n",
        "import operator\n",
        "for i in range(1,n+1):\n",
        "  name= input(\"Enter the name %d \"%(i))\n",
        "  mark=int(input(\"Enter the marks %d \"%(i)))\n",
        "  d[name]=mark\n",
        "print(\"input: \",d)\n",
        "sorted_a= sorted(d.items(), key=operator.itemgetter(1),reverse=True)\n",
        "print(\"output: \",sorted_a)"
      ],
      "execution_count": 5,
      "outputs": [
        {
          "output_type": "stream",
          "text": [
            "Enter the number of records 3\n",
            "Enter the name 1 Punith\n",
            "Enter the marks 1 100\n",
            "Enter the name 2 Surya\n",
            "Enter the marks 2 88\n",
            "Enter the name 3 Prakash\n",
            "Enter the marks 3 64\n",
            "input:  {'Punith': 100, 'Surya': 88, 'Prakash': 64}\n",
            "output:  [('Punith', 100), ('Surya', 88), ('Prakash', 64)]\n"
          ],
          "name": "stdout"
        }
      ]
    },
    {
      "cell_type": "markdown",
      "metadata": {
        "id": "S0dsdhSDdN4p",
        "colab_type": "text"
      },
      "source": [
        "#Add  name and salary {name:salary} for n number of employees through keyboard in a dictionary and print them in name alphabetical order with salary"
      ]
    },
    {
      "cell_type": "code",
      "metadata": {
        "id": "RKe0b1m1dSXj",
        "colab_type": "code",
        "colab": {
          "base_uri": "https://localhost:8080/",
          "height": 190
        },
        "outputId": "d4791356-7e33-4e0e-e179-ae1d1f734896"
      },
      "source": [
        "n=int(input(\"Enter the number of records \"))\n",
        "d={}\n",
        "import operator\n",
        "for i in range(1,n+1):\n",
        "  name= input(\"Enter the name %d \"%(i))\n",
        "  s=float(input(\"Enter the salary %d \"%(i)))\n",
        "  d[name]=s\n",
        "print(\"input: \",d)\n",
        "sorted_a= sorted(d.items(), key=operator.itemgetter(0))\n",
        "print(\"output: \",sorted_a)"
      ],
      "execution_count": 6,
      "outputs": [
        {
          "output_type": "stream",
          "text": [
            "Enter the number of records 3\n",
            "Enter the name 1 Prakash\n",
            "Enter the salary 1 88356\n",
            "Enter the name 2 Surya\n",
            "Enter the salary 2 92679\n",
            "Enter the name 3 Punith\n",
            "Enter the salary 3 99992\n",
            "input:  {'Prakash': 88356.0, 'Surya': 92679.0, 'Punith': 99992.0}\n",
            "output:  [('Prakash', 88356.0), ('Punith', 99992.0), ('Surya', 92679.0)]\n"
          ],
          "name": "stdout"
        }
      ]
    },
    {
      "cell_type": "markdown",
      "metadata": {
        "id": "nndJtV7LdwfU",
        "colab_type": "text"
      },
      "source": [
        "#Add  name and salary {name:salary} for n number of employees through keyboard in a dictionary and print them in salary  ascending order and sum, max, min and average of the salaries"
      ]
    },
    {
      "cell_type": "code",
      "metadata": {
        "id": "PwTZaU_Sd1X9",
        "colab_type": "code",
        "colab": {
          "base_uri": "https://localhost:8080/",
          "height": 258
        },
        "outputId": "bbd3f6e6-b753-4bda-989e-98cffb7f57f2"
      },
      "source": [
        "n=int(input(\"Enter the number of records \"))\n",
        "d={}\n",
        "import operator\n",
        "for i in range(1,n+1):\n",
        "  name= input(\"Enter the name %d \"%(i))\n",
        "  s=float(input(\"Enter the salary %d \"%(i)))\n",
        "  d[name]=s\n",
        "print(\"input: \",d)\n",
        "sorted_a= sorted(d.items(), key=operator.itemgetter(1))\n",
        "print(\"output: \",sorted_a)\n",
        "v = d.values()\n",
        "print(\"sum: \",sum(v))\n",
        "print(\"max: \",max(v))\n",
        "print(\"min: \",min(v))\n",
        "print(\"avg: \",(sum(v)/n))"
      ],
      "execution_count": 8,
      "outputs": [
        {
          "output_type": "stream",
          "text": [
            "Enter the number of records 3\n",
            "Enter the name 1 Prakash\n",
            "Enter the salary 1 47932\n",
            "Enter the name 2 Surya\n",
            "Enter the salary 2 89345\n",
            "Enter the name 3 Prakash\n",
            "Enter the salary 3 67824\n",
            "input:  {'Prakash': 67824.0, 'Surya': 89345.0}\n",
            "output:  [('Prakash', 67824.0), ('Surya', 89345.0)]\n",
            "sum:  157169.0\n",
            "max:  89345.0\n",
            "min:  67824.0\n",
            "avg:  52389.666666666664\n"
          ],
          "name": "stdout"
        }
      ]
    },
    {
      "cell_type": "markdown",
      "metadata": {
        "id": "9c-9ijjbfURt",
        "colab_type": "text"
      },
      "source": [
        "#Add name and salary {name:salary} for n number of employees through keyboard in a dictionary and print only the employees whose salary is greater than 2000 but less than 4000"
      ]
    },
    {
      "cell_type": "code",
      "metadata": {
        "id": "m-vsxF3VfhbE",
        "colab_type": "code",
        "colab": {
          "base_uri": "https://localhost:8080/",
          "height": 207
        },
        "outputId": "86f067cc-9aa8-4a04-975b-1ae69f1a3ee0"
      },
      "source": [
        "n=int(input(\"Enter the number of records\"))\n",
        "d={}\n",
        "import operator\n",
        "for i in range(1,n+1):\n",
        "  name= input(\"Enter the name %d \"%(i))\n",
        "  s=int(input(\"Enter the salary %d \"%(i)))\n",
        "  d[name]=s\n",
        "print(\"input: \",d)\n",
        "for key,value in d.items():\n",
        "    if value>=2000 and value<=4000:\n",
        "         print(d[key],\"=\",key)"
      ],
      "execution_count": 4,
      "outputs": [
        {
          "output_type": "stream",
          "text": [
            "Enter the number of records3\n",
            "Enter the name 1 Raju\n",
            "Enter the salary 1 2568\n",
            "Enter the name 2 Surya\n",
            "Enter the salary 2 5197\n",
            "Enter the name 3 Punith\n",
            "Enter the salary 3 3000\n",
            "input:  {'Raju': 2568, 'Surya': 5197, 'Punith': 3000}\n",
            "2568 = Raju\n",
            "3000 = Punith\n"
          ],
          "name": "stdout"
        }
      ]
    },
    {
      "cell_type": "markdown",
      "metadata": {
        "id": "6Uyvn6Owl3hr",
        "colab_type": "text"
      },
      "source": [
        "#Python program to convert a 3 digit number  into words"
      ]
    },
    {
      "cell_type": "code",
      "metadata": {
        "id": "dN2hxfvil7Wm",
        "colab_type": "code",
        "colab": {
          "base_uri": "https://localhost:8080/",
          "height": 51
        },
        "outputId": "a58b85e9-8cb8-46ac-e40e-e768417d8097"
      },
      "source": [
        "def convert_to_words(num): \n",
        "    l = len(num)\n",
        "    if (l == 0): \n",
        "        print(\"empty string\")\n",
        "        return; \n",
        "    if (l > 4): \n",
        "        print(\"Length more than 4 is not supported\"); \n",
        "        return; \n",
        "    single_digits = [\"zero\", \"one\", \"two\", \"three\", \n",
        "                    \"four\", \"five\", \"six\", \"seven\", \n",
        "                    \"eight\", \"nine\"]\n",
        "    two_digits = [\"\", \"ten\", \"eleven\", \"twelve\", \n",
        "                \"thirteen\", \"fourteen\", \"fifteen\", \n",
        "                \"sixteen\", \"seventeen\", \"eighteen\", \n",
        "                \"nineteen\"]\n",
        "    tens_multiple = [\"\", \"\", \"twenty\", \"thirty\", \"forty\", \n",
        "                    \"fifty\", \"sixty\", \"seventy\", \"eighty\", \n",
        "                    \"ninety\"]; \n",
        "    tens_power = [\"hundred\", \"thousand\"]\n",
        "    print(num, \":\", end = \" \") \n",
        "    if (l == 1): \n",
        "        print(single_digits[ord(num[0]) - '0']) \n",
        "        return\n",
        "    x = 0; \n",
        "    while (x < len(num)): \n",
        "        if (l >= 3): \n",
        "            if (ord(num[x]) - 48 != 0): \n",
        "                print(single_digits[ord(num[x]) - 48], \n",
        "                                        end = \" \")\n",
        "                print(tens_power[l - 3], end = \" \") \n",
        "            l -= 1 \n",
        "        else: \n",
        "            if (ord(num[x]) - 48 == 1): \n",
        "                sum = (ord(num[x]) - 48 +\n",
        "                    ord(num[x]) - 48); \n",
        "                print(two_digits[sum])\n",
        "                return; \n",
        "            elif (ord(num[x]) - 48 == 2 and\n",
        "                ord(num[x + 1]) - 48 == 0): \n",
        "                print(\"twenty\")\n",
        "                return; \n",
        "            else: \n",
        "                i = ord(num[x]) - 48\n",
        "                if(i > 0): \n",
        "                    print(tens_multiple[i], end = \" \")\n",
        "                else: \n",
        "                    print(\"\", end = \"\")\n",
        "                x += 1; \n",
        "                if(ord(num[x]) - 48 != 0): \n",
        "                    print(single_digits[ord(num[x]) - 48])\n",
        "        x += 1; \n",
        "n=(input(\"Enter the number: \"))\n",
        "convert_to_words(n)"
      ],
      "execution_count": 2,
      "outputs": [
        {
          "output_type": "stream",
          "text": [
            "Enter the number: 482\n",
            "482 : four hundred eighty two\n"
          ],
          "name": "stdout"
        }
      ]
    },
    {
      "cell_type": "markdown",
      "metadata": {
        "id": "WHuPVM12ndTH",
        "colab_type": "text"
      },
      "source": [
        "#Files Exercises"
      ]
    },
    {
      "cell_type": "markdown",
      "metadata": {
        "id": "q7qKlmq-nhwd",
        "colab_type": "text"
      },
      "source": [
        "#Python Program to count the total number of charaters (except blank space) in a text file."
      ]
    },
    {
      "cell_type": "code",
      "metadata": {
        "id": "L8gQpPvfnoSi",
        "colab_type": "code",
        "colab": {
          "base_uri": "https://localhost:8080/",
          "height": 51
        },
        "outputId": "1203f86b-844e-479d-8109-60ff6d13f411"
      },
      "source": [
        "input_file = input(\"Enter File name : \")\n",
        "file_txt = open(input_file)\t\t\n",
        "text = file_txt.read()\t\t\t\n",
        "charc = 0\t\n",
        "for i in text:\t\t\t\t\n",
        "\tif(i != \" \" and i != \"\\n\" ):\n",
        "\t\t charc += 1\n",
        " \n",
        "print (\"total num of characters: \",charc);"
      ],
      "execution_count": null,
      "outputs": [
        {
          "output_type": "stream",
          "text": [
            "Enter File name : /content/foo.txt\n",
            "total num of characters:  20\n"
          ],
          "name": "stdout"
        }
      ]
    },
    {
      "cell_type": "markdown",
      "metadata": {
        "id": "MQNcg_mho4oU",
        "colab_type": "text"
      },
      "source": [
        "#Python Program to print all the numbers present in a text file with its total number of occurrence."
      ]
    },
    {
      "cell_type": "code",
      "metadata": {
        "id": "l_o57rSNo-6L",
        "colab_type": "code",
        "colab": {
          "base_uri": "https://localhost:8080/",
          "height": 119
        },
        "outputId": "78b9bb3c-4389-4bb3-ae72-9aab752e76ac"
      },
      "source": [
        "input_file = input(\"Enter File name : \")\n",
        "file_txt = open(input_file)\t\t\n",
        "text = file_txt.read()\t\n",
        "w = []\t\n",
        "d = dict() \n",
        "for line in text: \n",
        "    line = line.strip() \t\n",
        "    if(line.isdigit()):\n",
        "           w.append(line)\n",
        "for j in w:\n",
        "      if j in d:\n",
        "        d[j] = d[j] + 1\n",
        "      else: \n",
        "            d[j] = 1 \n",
        "for key in list(d.keys()): \n",
        "    print(key, \":\", d[key])\n",
        "\n",
        "\n"
      ],
      "execution_count": null,
      "outputs": [
        {
          "output_type": "stream",
          "text": [
            "Enter File name : /content/abc.txt\n",
            "1 : 2\n",
            "2 : 3\n",
            "3 : 3\n",
            "4 : 1\n",
            "5 : 1\n"
          ],
          "name": "stdout"
        }
      ]
    },
    {
      "cell_type": "markdown",
      "metadata": {
        "id": "77GfDxwUueeP",
        "colab_type": "text"
      },
      "source": [
        "#Python Program to append the contents of one file to another file by getting the both file names through keyboard . "
      ]
    },
    {
      "cell_type": "code",
      "metadata": {
        "id": "KLjlbxjIugE2",
        "colab_type": "code",
        "colab": {
          "base_uri": "https://localhost:8080/",
          "height": 51
        },
        "outputId": "bb60dad4-5141-495e-c605-e8a067b8303e"
      },
      "source": [
        "name1 = input(\"Enter file to be read from: \")\n",
        "name2 = input(\"Enter file to be appended to: \")\n",
        "fin = open(name1, \"r\")\n",
        "data2 = fin.read()\n",
        "fin.close()\n",
        "fout = open(name2, \"a\")\n",
        "fout.write(data2)\n",
        "fout.close()"
      ],
      "execution_count": null,
      "outputs": [
        {
          "output_type": "stream",
          "text": [
            "Enter file to be read from: /content/abc.txt\n",
            "Enter file to be appended to: /content/foo.txt\n"
          ],
          "name": "stdout"
        }
      ]
    },
    {
      "cell_type": "markdown",
      "metadata": {
        "id": "Oe8Nth-gvxCl",
        "colab_type": "text"
      },
      "source": [
        "#Python Program to count the number of blank spaces in a text file. "
      ]
    },
    {
      "cell_type": "code",
      "metadata": {
        "id": "_IMf5n99v5RB",
        "colab_type": "code",
        "colab": {
          "base_uri": "https://localhost:8080/",
          "height": 51
        },
        "outputId": "07e02eed-2f18-4455-b822-19fd2c3b91b2"
      },
      "source": [
        "input_file = input(\"Enter File name : \")\n",
        "file_txt = open(input_file)\t\t\n",
        "text = file_txt.read()\t\t\t\n",
        "charc = 0\t\n",
        "for i in text:\t\t\t\t\n",
        "\tif(i == \" \"):\n",
        "\t\t charc += 1\n",
        " \n",
        "print (\"total num of spaces: \",charc);"
      ],
      "execution_count": null,
      "outputs": [
        {
          "output_type": "stream",
          "text": [
            "Enter File name : /content/abc.txt\n",
            "total num of spaces:  7\n"
          ],
          "name": "stdout"
        }
      ]
    },
    {
      "cell_type": "markdown",
      "metadata": {
        "id": "gY5v05_SwIjw",
        "colab_type": "text"
      },
      "source": [
        "#Python Program to read a file and capitalize the first letter of every word in the file and copy the every word capitalized content  into another file and read it ."
      ]
    },
    {
      "cell_type": "code",
      "metadata": {
        "id": "vcB3QlHowMoV",
        "colab_type": "code",
        "colab": {
          "base_uri": "https://localhost:8080/",
          "height": 71
        },
        "outputId": "7eccb717-ec0a-474a-ec7c-8024d183f550"
      },
      "source": [
        "fname = input(\"Enter file name: \")\n",
        "with open(fname, 'r') as f:\n",
        "  with open(\"out.txt\", \"w\") as f1:\n",
        "    for line in f:\n",
        "        l=line.title()\n",
        "        f1.write(l)\n",
        "file2=open(\"out.txt\",'r')\n",
        "line=file2.readline()\n",
        "while(line!=\"\"):\n",
        "    print(line)\n",
        "    line=file2.readline()\n",
        "file2.close()\n",
        "        \n",
        "\n"
      ],
      "execution_count": null,
      "outputs": [
        {
          "output_type": "stream",
          "text": [
            "Enter file name: /content/xyz.txt\n",
            "Python Program To Read A File And Capitalize The First Letter Of Every Word In The File And Copy The Every Word Capitalized Content  Into Another File And Read It .\n"
          ],
          "name": "stdout"
        }
      ]
    }
  ]
}