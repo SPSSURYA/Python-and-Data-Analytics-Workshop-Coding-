{
  "nbformat": 4,
  "nbformat_minor": 0,
  "metadata": {
    "colab": {
      "name": "Day 3_Examples_pdf.ipynb",
      "provenance": [],
      "authorship_tag": "ABX9TyOPbkS9u58GBR0KnBSIAVOa",
      "include_colab_link": true
    },
    "kernelspec": {
      "name": "python3",
      "display_name": "Python 3"
    }
  },
  "cells": [
    {
      "cell_type": "markdown",
      "metadata": {
        "id": "view-in-github",
        "colab_type": "text"
      },
      "source": [
        "<a href=\"https://colab.research.google.com/github/SPSSURYA/Python-and-Data-Analytics-Workshop-Coding-/blob/master/Day_3_Examples_pdf.ipynb\" target=\"_parent\"><img src=\"https://colab.research.google.com/assets/colab-badge.svg\" alt=\"Open In Colab\"/></a>"
      ]
    },
    {
      "cell_type": "markdown",
      "metadata": {
        "id": "21-CRYO3Dfs1",
        "colab_type": "text"
      },
      "source": [
        " Both NumPy and Pandas have emerged to be essential libraries for any scienti"
      ]
    },
    {
      "cell_type": "code",
      "metadata": {
        "id": "h6J_4wNPDhcf",
        "colab_type": "code",
        "colab": {
          "base_uri": "https://localhost:8080/",
          "height": 289
        },
        "outputId": "a9967a8f-9704-43ae-9522-b2a08248228d"
      },
      "source": [
        " \n",
        "import pandas as pd # Import Panda Library\n",
        "# Program to Create series with scalar values\n",
        "Data =[1, 3, 4, 5, 6, 2, 9] # Numeric data\n",
        "# Creating series with default index values\n",
        "s = pd.Series(Data)\n",
        "print(s)\n",
        "# predefined index values\n",
        "Index =['a', 'b', 'c', 'd', 'e', 'f', 'g']\n",
        "# Create series with Data, and Index\n",
        "a = pd.Series(Data, index = Index)\n",
        "a"
      ],
      "execution_count": null,
      "outputs": [
        {
          "output_type": "stream",
          "text": [
            "0    1\n",
            "1    3\n",
            "2    4\n",
            "3    5\n",
            "4    6\n",
            "5    2\n",
            "6    9\n",
            "dtype: int64\n"
          ],
          "name": "stdout"
        },
        {
          "output_type": "execute_result",
          "data": {
            "text/plain": [
              "a    1\n",
              "b    3\n",
              "c    4\n",
              "d    5\n",
              "e    6\n",
              "f    2\n",
              "g    9\n",
              "dtype: int64"
            ]
          },
          "metadata": {
            "tags": []
          },
          "execution_count": 1
        }
      ]
    },
    {
      "cell_type": "markdown",
      "metadata": {
        "id": "pkPHaJO-DrYz",
        "colab_type": "text"
      },
      "source": [
        " Converting Pandas Series to Python list"
      ]
    },
    {
      "cell_type": "code",
      "metadata": {
        "id": "spjlKihODwlt",
        "colab_type": "code",
        "colab": {
          "base_uri": "https://localhost:8080/",
          "height": 190
        },
        "outputId": "b58f5b6c-e668-4973-c37e-8f7ebee81f44"
      },
      "source": [
        " \n",
        "import pandas as pd\n",
        "ds = pd.Series([2, 4, 6, 8, 10])\n",
        "print(\"Pandas Series\")\n",
        "print(ds)\n",
        "print(\"Convert Pandas Series to Python list\")\n",
        "ds.tolist()"
      ],
      "execution_count": null,
      "outputs": [
        {
          "output_type": "stream",
          "text": [
            "Pandas Series\n",
            "0     2\n",
            "1     4\n",
            "2     6\n",
            "3     8\n",
            "4    10\n",
            "dtype: int64\n",
            "Convert Pandas Series to Python list\n"
          ],
          "name": "stdout"
        },
        {
          "output_type": "execute_result",
          "data": {
            "text/plain": [
              "[2, 4, 6, 8, 10]"
            ]
          },
          "metadata": {
            "tags": []
          },
          "execution_count": 2
        }
      ]
    },
    {
      "cell_type": "markdown",
      "metadata": {
        "id": "51KTzkuKD7LH",
        "colab_type": "text"
      },
      "source": [
        " Program to Create Dictionary into Series"
      ]
    },
    {
      "cell_type": "code",
      "metadata": {
        "id": "-UBrzo6yEAc8",
        "colab_type": "code",
        "colab": {
          "base_uri": "https://localhost:8080/",
          "height": 136
        },
        "outputId": "f1f2d1db-1a7b-47c4-d28e-2bad5d113028"
      },
      "source": [
        " \n",
        "dictionary ={'a':1, 'b':2, 'c':3, 'd':4, 'e':5, 'f':6}\n",
        "# Creating series of Dictionary type\n",
        "sd = pd.Series(dictionary)\n",
        "sd"
      ],
      "execution_count": null,
      "outputs": [
        {
          "output_type": "execute_result",
          "data": {
            "text/plain": [
              "a    1\n",
              "b    2\n",
              "c    3\n",
              "d    4\n",
              "e    5\n",
              "f    6\n",
              "dtype: int64"
            ]
          },
          "metadata": {
            "tags": []
          },
          "execution_count": 3
        }
      ]
    },
    {
      "cell_type": "markdown",
      "metadata": {
        "id": "B4p-VfboES42",
        "colab_type": "text"
      },
      "source": [
        " Program to Create DataFrame"
      ]
    },
    {
      "cell_type": "code",
      "metadata": {
        "id": "WnmuCma5EU12",
        "colab_type": "code",
        "colab": {
          "base_uri": "https://localhost:8080/",
          "height": 266
        },
        "outputId": "1a182053-ada8-48fb-b869-f99f285880a2"
      },
      "source": [
        " \n",
        "import pandas as pd\n",
        "# Import Library\n",
        "a = pd.DataFrame(Data)\n",
        "a"
      ],
      "execution_count": null,
      "outputs": [
        {
          "output_type": "execute_result",
          "data": {
            "text/html": [
              "<div>\n",
              "<style scoped>\n",
              "    .dataframe tbody tr th:only-of-type {\n",
              "        vertical-align: middle;\n",
              "    }\n",
              "\n",
              "    .dataframe tbody tr th {\n",
              "        vertical-align: top;\n",
              "    }\n",
              "\n",
              "    .dataframe thead th {\n",
              "        text-align: right;\n",
              "    }\n",
              "</style>\n",
              "<table border=\"1\" class=\"dataframe\">\n",
              "  <thead>\n",
              "    <tr style=\"text-align: right;\">\n",
              "      <th></th>\n",
              "      <th>0</th>\n",
              "    </tr>\n",
              "  </thead>\n",
              "  <tbody>\n",
              "    <tr>\n",
              "      <th>0</th>\n",
              "      <td>1</td>\n",
              "    </tr>\n",
              "    <tr>\n",
              "      <th>1</th>\n",
              "      <td>3</td>\n",
              "    </tr>\n",
              "    <tr>\n",
              "      <th>2</th>\n",
              "      <td>4</td>\n",
              "    </tr>\n",
              "    <tr>\n",
              "      <th>3</th>\n",
              "      <td>5</td>\n",
              "    </tr>\n",
              "    <tr>\n",
              "      <th>4</th>\n",
              "      <td>6</td>\n",
              "    </tr>\n",
              "    <tr>\n",
              "      <th>5</th>\n",
              "      <td>2</td>\n",
              "    </tr>\n",
              "    <tr>\n",
              "      <th>6</th>\n",
              "      <td>9</td>\n",
              "    </tr>\n",
              "  </tbody>\n",
              "</table>\n",
              "</div>"
            ],
            "text/plain": [
              "   0\n",
              "0  1\n",
              "1  3\n",
              "2  4\n",
              "3  5\n",
              "4  6\n",
              "5  2\n",
              "6  9"
            ]
          },
          "metadata": {
            "tags": []
          },
          "execution_count": 4
        }
      ]
    },
    {
      "cell_type": "markdown",
      "metadata": {
        "id": "kYm6byxWEl6w",
        "colab_type": "text"
      },
      "source": [
        " converting multiple dictionaries into pandas data frame"
      ]
    },
    {
      "cell_type": "code",
      "metadata": {
        "id": "WLxXTS2QEp9J",
        "colab_type": "code",
        "colab": {
          "base_uri": "https://localhost:8080/",
          "height": 204
        },
        "outputId": "3fbfbc92-93bf-4822-b200-7a16222db07c"
      },
      "source": [
        "dict1 ={'a':35.2,'b':47,'c':77,'d':49}\n",
        "dict2 ={'a':53,'b':69,'c':79,'d':81,'e':91} # Define Dictionary 2\n",
        "dict3 ={'a':56,'b':98,'c':77,'d':81,'e':90} # Define Dictionary 3\n",
        "Data = {'Maths':dict1, 'Physics':dict2,'Chemistry': dict3} # Define Data with dict1\n",
        "df = pd.DataFrame(Data) # Create DataFrame\n",
        "df"
      ],
      "execution_count": null,
      "outputs": [
        {
          "output_type": "execute_result",
          "data": {
            "text/html": [
              "<div>\n",
              "<style scoped>\n",
              "    .dataframe tbody tr th:only-of-type {\n",
              "        vertical-align: middle;\n",
              "    }\n",
              "\n",
              "    .dataframe tbody tr th {\n",
              "        vertical-align: top;\n",
              "    }\n",
              "\n",
              "    .dataframe thead th {\n",
              "        text-align: right;\n",
              "    }\n",
              "</style>\n",
              "<table border=\"1\" class=\"dataframe\">\n",
              "  <thead>\n",
              "    <tr style=\"text-align: right;\">\n",
              "      <th></th>\n",
              "      <th>Maths</th>\n",
              "      <th>Physics</th>\n",
              "      <th>Chemistry</th>\n",
              "    </tr>\n",
              "  </thead>\n",
              "  <tbody>\n",
              "    <tr>\n",
              "      <th>a</th>\n",
              "      <td>35.2</td>\n",
              "      <td>53</td>\n",
              "      <td>56</td>\n",
              "    </tr>\n",
              "    <tr>\n",
              "      <th>b</th>\n",
              "      <td>47.0</td>\n",
              "      <td>69</td>\n",
              "      <td>98</td>\n",
              "    </tr>\n",
              "    <tr>\n",
              "      <th>c</th>\n",
              "      <td>77.0</td>\n",
              "      <td>79</td>\n",
              "      <td>77</td>\n",
              "    </tr>\n",
              "    <tr>\n",
              "      <th>d</th>\n",
              "      <td>49.0</td>\n",
              "      <td>81</td>\n",
              "      <td>81</td>\n",
              "    </tr>\n",
              "    <tr>\n",
              "      <th>e</th>\n",
              "      <td>NaN</td>\n",
              "      <td>91</td>\n",
              "      <td>90</td>\n",
              "    </tr>\n",
              "  </tbody>\n",
              "</table>\n",
              "</div>"
            ],
            "text/plain": [
              "   Maths  Physics  Chemistry\n",
              "a   35.2       53         56\n",
              "b   47.0       69         98\n",
              "c   77.0       79         77\n",
              "d   49.0       81         81\n",
              "e    NaN       91         90"
            ]
          },
          "metadata": {
            "tags": []
          },
          "execution_count": 5
        }
      ]
    },
    {
      "cell_type": "markdown",
      "metadata": {
        "id": "caj3h2RzFAJX",
        "colab_type": "text"
      },
      "source": [
        " Program to create Dataframe of three series"
      ]
    },
    {
      "cell_type": "code",
      "metadata": {
        "id": "dKear-_BFCMc",
        "colab_type": "code",
        "colab": {
          "base_uri": "https://localhost:8080/",
          "height": 266
        },
        "outputId": "47e34d47-0a5e-46da-9a87-aad2b2e2fad7"
      },
      "source": [
        " \n",
        "import pandas as pd\n",
        "s1 = pd.Series([1, 3, 4, 5, 6, 2, 9])# Define series 1\n",
        "s2 = pd.Series([1.1, 3.5, 4.7, 5.8, 2.9, 9.3]) # Define series 2\n",
        "s3 = pd.Series(['a', 'b', 'c', 'd', 'e'])# Define series 3\n",
        "Data ={'first':s1, 'second':s2, 'third':s3} # Define Data\n",
        "dfseries = pd.DataFrame(Data)# Create DataFrame\n",
        "dfseries"
      ],
      "execution_count": null,
      "outputs": [
        {
          "output_type": "execute_result",
          "data": {
            "text/html": [
              "<div>\n",
              "<style scoped>\n",
              "    .dataframe tbody tr th:only-of-type {\n",
              "        vertical-align: middle;\n",
              "    }\n",
              "\n",
              "    .dataframe tbody tr th {\n",
              "        vertical-align: top;\n",
              "    }\n",
              "\n",
              "    .dataframe thead th {\n",
              "        text-align: right;\n",
              "    }\n",
              "</style>\n",
              "<table border=\"1\" class=\"dataframe\">\n",
              "  <thead>\n",
              "    <tr style=\"text-align: right;\">\n",
              "      <th></th>\n",
              "      <th>first</th>\n",
              "      <th>second</th>\n",
              "      <th>third</th>\n",
              "    </tr>\n",
              "  </thead>\n",
              "  <tbody>\n",
              "    <tr>\n",
              "      <th>0</th>\n",
              "      <td>1</td>\n",
              "      <td>1.1</td>\n",
              "      <td>a</td>\n",
              "    </tr>\n",
              "    <tr>\n",
              "      <th>1</th>\n",
              "      <td>3</td>\n",
              "      <td>3.5</td>\n",
              "      <td>b</td>\n",
              "    </tr>\n",
              "    <tr>\n",
              "      <th>2</th>\n",
              "      <td>4</td>\n",
              "      <td>4.7</td>\n",
              "      <td>c</td>\n",
              "    </tr>\n",
              "    <tr>\n",
              "      <th>3</th>\n",
              "      <td>5</td>\n",
              "      <td>5.8</td>\n",
              "      <td>d</td>\n",
              "    </tr>\n",
              "    <tr>\n",
              "      <th>4</th>\n",
              "      <td>6</td>\n",
              "      <td>2.9</td>\n",
              "      <td>e</td>\n",
              "    </tr>\n",
              "    <tr>\n",
              "      <th>5</th>\n",
              "      <td>2</td>\n",
              "      <td>9.3</td>\n",
              "      <td>NaN</td>\n",
              "    </tr>\n",
              "    <tr>\n",
              "      <th>6</th>\n",
              "      <td>9</td>\n",
              "      <td>NaN</td>\n",
              "      <td>NaN</td>\n",
              "    </tr>\n",
              "  </tbody>\n",
              "</table>\n",
              "</div>"
            ],
            "text/plain": [
              "   first  second third\n",
              "0      1     1.1     a\n",
              "1      3     3.5     b\n",
              "2      4     4.7     c\n",
              "3      5     5.8     d\n",
              "4      6     2.9     e\n",
              "5      2     9.3   NaN\n",
              "6      9     NaN   NaN"
            ]
          },
          "metadata": {
            "tags": []
          },
          "execution_count": 6
        }
      ]
    },
    {
      "cell_type": "markdown",
      "metadata": {
        "id": "9C6enhB7FPPU",
        "colab_type": "text"
      },
      "source": [
        " Program to create DataFrame from 2D array"
      ]
    },
    {
      "cell_type": "code",
      "metadata": {
        "id": "WzqBDNZ-FQty",
        "colab_type": "code",
        "colab": {
          "base_uri": "https://localhost:8080/",
          "height": 111
        },
        "outputId": "25e16f74-00dd-4355-8e9b-fc42f38d5848"
      },
      "source": [
        " \n",
        "import pandas as pd # Import Library\n",
        "d1 =[[2, 3, 4], [5, 6, 7]] # Define 2d array 1\n",
        "d2 =[[2, 4, 8], [1, 3, 9]] # Define 2d array 2\n",
        "Data ={'first': d1, 'second': d2} # Define Data\n",
        "df2d = pd.DataFrame(Data)\n",
        "# Create DataFrame\n",
        "df2d"
      ],
      "execution_count": null,
      "outputs": [
        {
          "output_type": "execute_result",
          "data": {
            "text/html": [
              "<div>\n",
              "<style scoped>\n",
              "    .dataframe tbody tr th:only-of-type {\n",
              "        vertical-align: middle;\n",
              "    }\n",
              "\n",
              "    .dataframe tbody tr th {\n",
              "        vertical-align: top;\n",
              "    }\n",
              "\n",
              "    .dataframe thead th {\n",
              "        text-align: right;\n",
              "    }\n",
              "</style>\n",
              "<table border=\"1\" class=\"dataframe\">\n",
              "  <thead>\n",
              "    <tr style=\"text-align: right;\">\n",
              "      <th></th>\n",
              "      <th>first</th>\n",
              "      <th>second</th>\n",
              "    </tr>\n",
              "  </thead>\n",
              "  <tbody>\n",
              "    <tr>\n",
              "      <th>0</th>\n",
              "      <td>[2, 3, 4]</td>\n",
              "      <td>[2, 4, 8]</td>\n",
              "    </tr>\n",
              "    <tr>\n",
              "      <th>1</th>\n",
              "      <td>[5, 6, 7]</td>\n",
              "      <td>[1, 3, 9]</td>\n",
              "    </tr>\n",
              "  </tbody>\n",
              "</table>\n",
              "</div>"
            ],
            "text/plain": [
              "       first     second\n",
              "0  [2, 3, 4]  [2, 4, 8]\n",
              "1  [5, 6, 7]  [1, 3, 9]"
            ]
          },
          "metadata": {
            "tags": []
          },
          "execution_count": 7
        }
      ]
    },
    {
      "cell_type": "markdown",
      "metadata": {
        "id": "EifeisYYFe_o",
        "colab_type": "text"
      },
      "source": [
        " Converting Pandas Series to Python list"
      ]
    },
    {
      "cell_type": "code",
      "metadata": {
        "id": "t9pPyvHAFgFN",
        "colab_type": "code",
        "colab": {
          "base_uri": "https://localhost:8080/",
          "height": 224
        },
        "outputId": "c244e7c8-1d65-4d2a-bcf3-fb49fa3d6d41"
      },
      "source": [
        " \n",
        "import pandas as pd\n",
        "ds = pd.Series([2, 4, 6, 8, 10])\n",
        "print(\"Pandas Series and type\")\n",
        "print(ds)\n",
        "print(type(ds))\n",
        "print(\"Convert Pandas Series to Python list\")\n",
        "print(ds.tolist())\n",
        "print(type(ds.tolist()))"
      ],
      "execution_count": null,
      "outputs": [
        {
          "output_type": "stream",
          "text": [
            "Pandas Series and type\n",
            "0     2\n",
            "1     4\n",
            "2     6\n",
            "3     8\n",
            "4    10\n",
            "dtype: int64\n",
            "<class 'pandas.core.series.Series'>\n",
            "Convert Pandas Series to Python list\n",
            "[2, 4, 6, 8, 10]\n",
            "<class 'list'>\n"
          ],
          "name": "stdout"
        }
      ]
    },
    {
      "cell_type": "markdown",
      "metadata": {
        "id": "_APOtLbVFn5N",
        "colab_type": "text"
      },
      "source": [
        " Write a Pandas program to add, subtract, multiple and divide two Pandas Series. Sample Series:\n",
        "[2, 4, 6, 8, 10], [1, 3, 5, 7, 9]"
      ]
    },
    {
      "cell_type": "code",
      "metadata": {
        "id": "ctb5CqqWFvJb",
        "colab_type": "code",
        "colab": {
          "base_uri": "https://localhost:8080/",
          "height": 493
        },
        "outputId": "b5f6c7e7-da5c-45c4-81fe-3bc6bbb04666"
      },
      "source": [
        " \n",
        "import pandas as pd\n",
        "ds1 = pd.Series([2, 4, 6, 8, 10])\n",
        "ds2 = pd.Series([1, 3, 5, 7, 9])\n",
        "ds = ds1 + ds2\n",
        "print(\"Add two Series:\")\n",
        "print(ds)\n",
        "print(\"Subtract two Series:\")\n",
        "ds = ds1 - ds2\n",
        "print(ds)\n",
        "print(\"Multiply two Series:\")\n",
        "ds = ds1 * ds2\n",
        "print(ds)\n",
        "print(\"Divide Series1 by Series2:\")\n",
        "ds = ds1 / ds2\n",
        "print(ds)"
      ],
      "execution_count": null,
      "outputs": [
        {
          "output_type": "stream",
          "text": [
            "Add two Series:\n",
            "0     3\n",
            "1     7\n",
            "2    11\n",
            "3    15\n",
            "4    19\n",
            "dtype: int64\n",
            "Subtract two Series:\n",
            "0    1\n",
            "1    1\n",
            "2    1\n",
            "3    1\n",
            "4    1\n",
            "dtype: int64\n",
            "Multiply two Series:\n",
            "0     2\n",
            "1    12\n",
            "2    30\n",
            "3    56\n",
            "4    90\n",
            "dtype: int64\n",
            "Divide Series1 by Series2:\n",
            "0    2.000000\n",
            "1    1.333333\n",
            "2    1.200000\n",
            "3    1.142857\n",
            "4    1.111111\n",
            "dtype: float64\n"
          ],
          "name": "stdout"
        }
      ]
    },
    {
      "cell_type": "markdown",
      "metadata": {
        "id": "z05sFqXeF2aq",
        "colab_type": "text"
      },
      "source": [
        " Write a P dtype: float64 andas program to compare the elements of the two Pandas Series. Sample Series: [2,\n",
        "4, 6, 8, 10], [1, 3, 5, 7, 9]"
      ]
    },
    {
      "cell_type": "code",
      "metadata": {
        "id": "qxuTnyj-F8A3",
        "colab_type": "code",
        "colab": {
          "base_uri": "https://localhost:8080/",
          "height": 649
        },
        "outputId": "cf7a311b-5e04-4a88-be87-b26db81c4692"
      },
      "source": [
        " \n",
        "import pandas as pd\n",
        "ds1 = pd.Series([2, 4, 6, 8, 10])\n",
        "ds2 = pd.Series([1, 3, 5, 7, 10])\n",
        "print(\"Series1:\")\n",
        "print(ds1)\n",
        "print(\"Series2:\")\n",
        "print(ds2)\n",
        "print(\"Compare the elements of the said Series:\")\n",
        "print(\"Equals:\")\n",
        "print(ds1 == ds2)\n",
        "print(\"Greater than:\")\n",
        "print(ds1 > ds2)\n",
        "print(\"Less than:\")\n",
        "print(ds1 < ds2)"
      ],
      "execution_count": null,
      "outputs": [
        {
          "output_type": "stream",
          "text": [
            "Series1:\n",
            "0     2\n",
            "1     4\n",
            "2     6\n",
            "3     8\n",
            "4    10\n",
            "dtype: int64\n",
            "Series2:\n",
            "0     1\n",
            "1     3\n",
            "2     5\n",
            "3     7\n",
            "4    10\n",
            "dtype: int64\n",
            "Compare the elements of the said Series:\n",
            "Equals:\n",
            "0    False\n",
            "1    False\n",
            "2    False\n",
            "3    False\n",
            "4     True\n",
            "dtype: bool\n",
            "Greater than:\n",
            "0     True\n",
            "1     True\n",
            "2     True\n",
            "3     True\n",
            "4    False\n",
            "dtype: bool\n",
            "Less than:\n",
            "0    False\n",
            "1    False\n",
            "2    False\n",
            "3    False\n",
            "4    False\n",
            "dtype: bool\n"
          ],
          "name": "stdout"
        }
      ]
    },
    {
      "cell_type": "markdown",
      "metadata": {
        "id": "-a9kBjgIGajr",
        "colab_type": "text"
      },
      "source": [
        "NUMPY"
      ]
    },
    {
      "cell_type": "markdown",
      "metadata": {
        "id": "_5BFSwk4Gd3n",
        "colab_type": "text"
      },
      "source": [
        " Write a Pandas program to convert a NumPy array to a Pandas series.Sample NumPy array: d1 =\n",
        "[10, 20, 30, 40, 50]"
      ]
    },
    {
      "cell_type": "code",
      "metadata": {
        "id": "ETgwWHgRGe0Z",
        "colab_type": "code",
        "colab": {
          "base_uri": "https://localhost:8080/",
          "height": 170
        },
        "outputId": "7dfa84a7-55d6-4d4b-9eb5-5536374c5062"
      },
      "source": [
        " \n",
        "import numpy as np\n",
        "import pandas as pd\n",
        "np_array = np.array([1, 2, 3, 4, 5])\n",
        "print(\"NumPy array:\")\n",
        "print(np_array)\n",
        "new_series = pd.Series(np_array)\n",
        "print(\"Converted Pandas series:\")\n",
        "print(new_series)"
      ],
      "execution_count": null,
      "outputs": [
        {
          "output_type": "stream",
          "text": [
            "NumPy array:\n",
            "[1 2 3 4 5]\n",
            "Converted Pandas series:\n",
            "0    1\n",
            "1    2\n",
            "2    3\n",
            "3    4\n",
            "4    5\n",
            "dtype: int64\n"
          ],
          "name": "stdout"
        }
      ]
    },
    {
      "cell_type": "markdown",
      "metadata": {
        "id": "sLT6RvlQHYDR",
        "colab_type": "text"
      },
      "source": [
        " Write a Pandas program to change the data type of the given meric ['100', '200', 'python', '300.12',\n",
        "'400a']"
      ]
    },
    {
      "cell_type": "code",
      "metadata": {
        "id": "uWi5Pb1eHZEu",
        "colab_type": "code",
        "colab": {
          "base_uri": "https://localhost:8080/",
          "height": 275
        },
        "outputId": "cea4c723-49d2-4a5e-b202-ffb758558e50"
      },
      "source": [
        " \n",
        "import pandas as pd\n",
        "s1 = pd.Series(['100', '200', 'python', '300.12', '400a'])\n",
        "print(\"Original Data Series:\")\n",
        "print(s1)\n",
        "print(\"Change the said data type to numeric:\")\n",
        "s2 = pd.to_numeric(s1, errors='coerce')\n",
        "print(s2)"
      ],
      "execution_count": null,
      "outputs": [
        {
          "output_type": "stream",
          "text": [
            "Original Data Series:\n",
            "0       100\n",
            "1       200\n",
            "2    python\n",
            "3    300.12\n",
            "4      400a\n",
            "dtype: object\n",
            "Change the said data type to numeric:\n",
            "0    100.00\n",
            "1    200.00\n",
            "2       NaN\n",
            "3    300.12\n",
            "4       NaN\n",
            "dtype: float64\n"
          ],
          "name": "stdout"
        }
      ]
    },
    {
      "cell_type": "markdown",
      "metadata": {
        "id": "2eSJPZwoH2j9",
        "colab_type": "text"
      },
      "source": [
        " program to sort a given Series"
      ]
    },
    {
      "cell_type": "code",
      "metadata": {
        "id": "ww368MndH4J4",
        "colab_type": "code",
        "colab": {
          "base_uri": "https://localhost:8080/",
          "height": 255
        },
        "outputId": "b5cfc295-2a39-4102-a20f-d52b8830df23"
      },
      "source": [
        " \n",
        "import pandas as pd\n",
        "s = pd.Series(['200','100', 'python', '300.12', '400'])\n",
        "print(\"Original Data Series:\")\n",
        "print(s)\n",
        "new_s = pd.Series(s).sort_values()\n",
        "print(\"sorted series are\")\n",
        "print(new_s)"
      ],
      "execution_count": null,
      "outputs": [
        {
          "output_type": "stream",
          "text": [
            "Original Data Series:\n",
            "0       200\n",
            "1       100\n",
            "2    python\n",
            "3    300.12\n",
            "4       400\n",
            "dtype: object\n",
            "sorted series are\n",
            "1       100\n",
            "0       200\n",
            "3    300.12\n",
            "4       400\n",
            "2    python\n",
            "dtype: object\n"
          ],
          "name": "stdout"
        }
      ]
    },
    {
      "cell_type": "markdown",
      "metadata": {
        "id": "CuUlVUHxIFyF",
        "colab_type": "text"
      },
      "source": [
        " Write a Pandas program to add some data to an existing Series."
      ]
    },
    {
      "cell_type": "code",
      "metadata": {
        "id": "QXWrLmOgII-U",
        "colab_type": "code",
        "colab": {
          "base_uri": "https://localhost:8080/",
          "height": 326
        },
        "outputId": "a2b65619-e150-4ee8-a604-c2cc0e98533f"
      },
      "source": [
        " \n",
        "import pandas as pd\n",
        "s = pd.Series(['100', '200', 'python', '300.12', '400'])\n",
        "print(\"Original Data Series:\")\n",
        "print(s)\n",
        "print(\"\\nData Series after adding some data:\")\n",
        "new_s = s.append(pd.Series(['500', 'php']))\n",
        "print(new_s)"
      ],
      "execution_count": null,
      "outputs": [
        {
          "output_type": "stream",
          "text": [
            "Original Data Series:\n",
            "0       100\n",
            "1       200\n",
            "2    python\n",
            "3    300.12\n",
            "4       400\n",
            "dtype: object\n",
            "\n",
            "Data Series after adding some data:\n",
            "0       100\n",
            "1       200\n",
            "2    python\n",
            "3    300.12\n",
            "4       400\n",
            "0       500\n",
            "1       php\n",
            "dtype: object\n"
          ],
          "name": "stdout"
        }
      ]
    },
    {
      "cell_type": "markdown",
      "metadata": {
        "id": "iH3hxWfAIOZc",
        "colab_type": "text"
      },
      "source": [
        " Write a Pandas program to create a subset of a given series based on value and condition"
      ]
    },
    {
      "cell_type": "code",
      "metadata": {
        "id": "yc3hWcgAIoF2",
        "colab_type": "code",
        "colab": {
          "base_uri": "https://localhost:8080/",
          "height": 459
        },
        "outputId": "1f695966-4aed-4ad6-9c38-c98924238599"
      },
      "source": [
        " \n",
        "import pandas as pd\n",
        "s = pd.Series([0, 1,2,3,4,5,6,7,8,9,10])\n",
        "print(\"Original Data Series:\")\n",
        "print(s)\n",
        "n = 6\n",
        "new_s = s[s > n]\n",
        "print(\"The values greater than 6\")\n",
        "print(new_s)\n",
        "new_s1=s[s%2!=0]\n",
        "print(\"The odd values \")\n",
        "print(new_s1)"
      ],
      "execution_count": null,
      "outputs": [
        {
          "output_type": "stream",
          "text": [
            "Original Data Series:\n",
            "0      0\n",
            "1      1\n",
            "2      2\n",
            "3      3\n",
            "4      4\n",
            "5      5\n",
            "6      6\n",
            "7      7\n",
            "8      8\n",
            "9      9\n",
            "10    10\n",
            "dtype: int64\n",
            "The values greater than 6\n",
            "7      7\n",
            "8      8\n",
            "9      9\n",
            "10    10\n",
            "dtype: int64\n",
            "The odd values \n",
            "1    1\n",
            "3    3\n",
            "5    5\n",
            "7    7\n",
            "9    9\n",
            "dtype: int64\n"
          ],
          "name": "stdout"
        }
      ]
    },
    {
      "cell_type": "markdown",
      "metadata": {
        "id": "Z144rtwjJKEu",
        "colab_type": "text"
      },
      "source": [
        " Write a program to create the mean and standard deviation, maximum and minimum of the data\n",
        "of a given Series using pandas"
      ]
    },
    {
      "cell_type": "code",
      "metadata": {
        "id": "nodhWE8sJOlj",
        "colab_type": "code",
        "colab": {
          "base_uri": "https://localhost:8080/",
          "height": 394
        },
        "outputId": "547666c2-c141-49c4-fb5c-870373d9da71"
      },
      "source": [
        " \n",
        "import pandas as pd\n",
        "s = pd.Series(data = [1,2,3,4,5,6,7,8,9,5,3])\n",
        "print(\"Original Data Series:\")\n",
        "print(s)\n",
        "print(\"Mean of the said Data Series:\")\n",
        "print(s.mean())\n",
        "print(\"Standard deviation of the said Data Series:\")\n",
        "print(s.std())\n",
        "print(\"Max\")\n",
        "print(s.max())\n",
        "print(\"Min\")\n",
        "print(s.min())"
      ],
      "execution_count": null,
      "outputs": [
        {
          "output_type": "stream",
          "text": [
            "Original Data Series:\n",
            "0     1\n",
            "1     2\n",
            "2     3\n",
            "3     4\n",
            "4     5\n",
            "5     6\n",
            "6     7\n",
            "7     8\n",
            "8     9\n",
            "9     5\n",
            "10    3\n",
            "dtype: int64\n",
            "Mean of the said Data Series:\n",
            "4.818181818181818\n",
            "Standard deviation of the said Data Series:\n",
            "2.522624895547565\n",
            "Max\n",
            "9\n",
            "Min\n",
            "1\n"
          ],
          "name": "stdout"
        }
      ]
    },
    {
      "cell_type": "markdown",
      "metadata": {
        "id": "UlQFhK0bJeNc",
        "colab_type": "text"
      },
      "source": [
        " Write a program to get the elements of an array values into column-wise using pandas Sample\n",
        "data: {‘X’:[78,85,96,80,86], 'Y':[84,94,89,83,86],'Z':[86,97,96,72,83]}"
      ]
    },
    {
      "cell_type": "code",
      "metadata": {
        "id": "OeicKTxFJfUL",
        "colab_type": "code",
        "colab": {
          "base_uri": "https://localhost:8080/",
          "height": 119
        },
        "outputId": "49dc93bb-6d5a-4c9d-90ff-f26f7c48accc"
      },
      "source": [
        " \n",
        "import pandas as pd\n",
        "df = pd.DataFrame({'X':[78,85,96,80,86], 'Y':[84,94,89,83,86],'Z':[86,97,96,\n",
        "72,83]});\n",
        "print(df)"
      ],
      "execution_count": null,
      "outputs": [
        {
          "output_type": "stream",
          "text": [
            "    X   Y   Z\n",
            "0  78  84  86\n",
            "1  85  94  97\n",
            "2  96  89  96\n",
            "3  80  83  72\n",
            "4  86  86  83\n"
          ],
          "name": "stdout"
        }
      ]
    },
    {
      "cell_type": "markdown",
      "metadata": {
        "id": "FdXEvBYJJp-4",
        "colab_type": "text"
      },
      "source": [
        " The previous program's index has to be removed instead convert into the data frame of the\n",
        "subject marks of X,Y,Z"
      ]
    },
    {
      "cell_type": "code",
      "metadata": {
        "id": "MxOyMNYnJrBz",
        "colab_type": "code",
        "colab": {
          "base_uri": "https://localhost:8080/",
          "height": 136
        },
        "outputId": "e3eecbc5-18d7-4e98-b856-2807ff582a04"
      },
      "source": [
        " \n",
        "df = pd.DataFrame({'X':[78,85,96,80,86], 'Y':[84,94,89,83,86],'Z':[86,97,96,\n",
        "72,83], 'Subjects':['Kanada','English','Maths','Science','Social']});\n",
        "print(df.set_index('Subjects'))"
      ],
      "execution_count": null,
      "outputs": [
        {
          "output_type": "stream",
          "text": [
            "           X   Y   Z\n",
            "Subjects            \n",
            "Kanada    78  84  86\n",
            "English   85  94  97\n",
            "Maths     96  89  96\n",
            "Science   80  83  72\n",
            "Social    86  86  83\n"
          ],
          "name": "stdout"
        }
      ]
    }
  ]
}