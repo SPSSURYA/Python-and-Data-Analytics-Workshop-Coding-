{
  "nbformat": 4,
  "nbformat_minor": 0,
  "metadata": {
    "colab": {
      "name": "15-06-20 exercise and worked examples python .ipynb",
      "provenance": [],
      "authorship_tag": "ABX9TyNY6pm2rEPPPRfnObdS62MS",
      "include_colab_link": true
    },
    "kernelspec": {
      "name": "python3",
      "display_name": "Python 3"
    }
  },
  "cells": [
    {
      "cell_type": "markdown",
      "metadata": {
        "id": "view-in-github",
        "colab_type": "text"
      },
      "source": [
        "<a href=\"https://colab.research.google.com/github/SPSSURYA/Python-and-Data-Analytics-Workshop-Coding-/blob/master/15_06_20_exercise_and_worked_examples_python_.ipynb\" target=\"_parent\"><img src=\"https://colab.research.google.com/assets/colab-badge.svg\" alt=\"Open In Colab\"/></a>"
      ]
    },
    {
      "cell_type": "code",
      "metadata": {
        "id": "_jxHCzDUsmhi",
        "colab_type": "code",
        "outputId": "b6ce0c3c-b0a9-427f-97fb-20830e4b64be",
        "colab": {
          "base_uri": "https://localhost:8080/",
          "height": 68
        }
      },
      "source": [
        " \n",
        "num1 = int(input(\"Enter first no\"))\n",
        "num2 = int(input(\"Enter second no\"))\n",
        "sum = num1 + num2\n",
        "print('The sum of {0} and {1} is {2}'.format(num1, num2, sum))"
      ],
      "execution_count": 0,
      "outputs": [
        {
          "output_type": "stream",
          "text": [
            "Enter first no6\n",
            "Enter second no11\n",
            "The sum of 6 and 11 is 17\n"
          ],
          "name": "stdout"
        }
      ]
    },
    {
      "cell_type": "markdown",
      "metadata": {
        "id": "1GlV23FHx4kh",
        "colab_type": "text"
      },
      "source": [
        " Python Program to Add Two Numbers getting through key board"
      ]
    },
    {
      "cell_type": "markdown",
      "metadata": {
        "id": "tXw9ZKkXyXkj",
        "colab_type": "text"
      },
      "source": [
        " Python program to check if the input year is a leap year or not"
      ]
    },
    {
      "cell_type": "code",
      "metadata": {
        "id": "E0smLX_7yfD8",
        "colab_type": "code",
        "outputId": "b3529f42-9edf-4f81-acb3-718e5b7df440",
        "colab": {
          "base_uri": "https://localhost:8080/",
          "height": 51
        }
      },
      "source": [
        " \n",
        "year = int(input(\"Enter a year: \"))\n",
        " \n",
        "if ((year % 4) == 0 and (year % 100)  != 0) or ((year % 400) == 0):\n",
        "           print(\"{0} is a leap year\".format(year))\n",
        "else:\n",
        "           print(\"{0} is not a leap year\".format(year))"
      ],
      "execution_count": 0,
      "outputs": [
        {
          "output_type": "stream",
          "text": [
            "Enter a year: 2000\n",
            "2000 is a leap year\n"
          ],
          "name": "stdout"
        }
      ]
    },
    {
      "cell_type": "markdown",
      "metadata": {
        "id": "LeXpm0Bzyr0u",
        "colab_type": "text"
      },
      "source": [
        " Python Program to Generate a Random Number"
      ]
    },
    {
      "cell_type": "code",
      "metadata": {
        "id": "3NVMcmiOyzQx",
        "colab_type": "code",
        "outputId": "520f5a56-1353-45bc-85fd-c5e939c1e0e8",
        "colab": {
          "base_uri": "https://localhost:8080/",
          "height": 34
        }
      },
      "source": [
        " \n",
        "import random\n",
        "print(random.randint(0,9))"
      ],
      "execution_count": 0,
      "outputs": [
        {
          "output_type": "stream",
          "text": [
            "6\n"
          ],
          "name": "stdout"
        }
      ]
    },
    {
      "cell_type": "markdown",
      "metadata": {
        "id": "c8mu0CmTy89S",
        "colab_type": "text"
      },
      "source": [
        "Python Program to Convert Kilometers to Miles"
      ]
    },
    {
      "cell_type": "code",
      "metadata": {
        "id": "0GU0V9ejzJoV",
        "colab_type": "code",
        "outputId": "5f018f23-d234-471a-82c2-2b0375d43588",
        "colab": {
          "base_uri": "https://localhost:8080/",
          "height": 71
        }
      },
      "source": [
        " \n",
        "kilometers = int(input(\"Enter value in kilometers\"))\n",
        "conv_fac = 0.621371\n",
        "miles = kilometers * conv_fac\n",
        "print('%0.3f kilometers is equal to %0.3f miles' %(kilometers,miles))"
      ],
      "execution_count": 0,
      "outputs": [
        {
          "output_type": "stream",
          "text": [
            "Enter value in kilometers8\n",
            "8.000 kilometers is equal to 4.971 miles\n"
          ],
          "name": "stdout"
        }
      ]
    },
    {
      "cell_type": "markdown",
      "metadata": {
        "id": "hhLahwkbzX56",
        "colab_type": "text"
      },
      "source": [
        " Python Program to Solve Quadratic Equation"
      ]
    },
    {
      "cell_type": "code",
      "metadata": {
        "id": "Be3wDjXAzeTw",
        "colab_type": "code",
        "outputId": "a58574b3-abb2-4236-ce7a-f0babb46c87d",
        "colab": {
          "base_uri": "https://localhost:8080/",
          "height": 105
        }
      },
      "source": [
        " \n",
        "import cmath\n",
        "a = float(input('Enter a: '))\n",
        "b = float(input('Enter b: '))\n",
        "c = float(input('Enter c: '))\n",
        "d = (b**2) - (4*a*c)\n",
        "sol1 = (-b-cmath.sqrt(d))/(2*a)\n",
        "sol2 = (-b+cmath.sqrt(d))/(2*a)\n",
        "print('The solution are {0} and {1}'.format(sol1,sol2))"
      ],
      "execution_count": 0,
      "outputs": [
        {
          "output_type": "stream",
          "text": [
            "Enter a: 2\n",
            "Enter b: 4\n",
            "Enter c: 3\n",
            "The solution are (-1-0.7071067811865476j) and (-1+0.7071067811865476j)\n"
          ],
          "name": "stdout"
        }
      ]
    },
    {
      "cell_type": "markdown",
      "metadata": {
        "id": "uJ972yyTzxZN",
        "colab_type": "text"
      },
      "source": [
        " Python Program to find prime or not using function"
      ]
    },
    {
      "cell_type": "code",
      "metadata": {
        "id": "CXNkFpdhz6hz",
        "colab_type": "code",
        "outputId": "073577b3-b883-4a29-9e49-d7b7bbfa25bb",
        "colab": {
          "base_uri": "https://localhost:8080/",
          "height": 51
        }
      },
      "source": [
        " \n",
        "def test_prime(n):\n",
        "    if (n==1):\n",
        "        return False\n",
        "    elif (n==2):\n",
        "        return True;\n",
        "    else:\n",
        "        for x in range(2,n):\n",
        "            if(n % x==0):\n",
        "                return False\n",
        "        return True\n",
        "no=int(input(\"Enter the number\"))\n",
        "if (test_prime(no)) is True :\n",
        "    print(\" {0} is a prime no\".format(no))\n",
        "else:\n",
        "     print(\" {0} is not a prime no\".format(no))"
      ],
      "execution_count": 0,
      "outputs": [
        {
          "output_type": "stream",
          "text": [
            "Enter the number2\n",
            " 2 is a prime no\n"
          ],
          "name": "stdout"
        }
      ]
    },
    {
      "cell_type": "markdown",
      "metadata": {
        "id": "vD95mHnZ0GXn",
        "colab_type": "text"
      },
      "source": [
        " Calculator program"
      ]
    },
    {
      "cell_type": "code",
      "metadata": {
        "id": "ZsH82Ft02mKS",
        "colab_type": "code",
        "outputId": "0d8a17dc-23a7-4449-ebab-239b245cd556",
        "colab": {
          "base_uri": "https://localhost:8080/",
          "height": 102
        }
      },
      "source": [
        " choice = int(input(\"Enter your choice:n\"))  # User's choice[1,2,3,4]\n",
        "if (choice>=1 and choice<=4):\n",
        "  print(\"Enter two numbers: \")\n",
        "  num1 = int(input())\n",
        "  num2 = int(input())\n",
        " \n",
        "  if choice == 1: # To add two numbers\n",
        "    res = num1 + num2\n",
        "    print(\"Result = \", res)\n",
        " \n",
        "  elif choice == 2: # To subtract two numbers\n",
        "    res = num1 - num2\n",
        "    print(\"Result = \", res)\n",
        " \n",
        "  elif choice == 3: # To multiply two numbers\n",
        "    res = num1 * num2\n",
        "    print(\"Result = \", res)\n",
        " \n",
        "  elif choice == 4: # To get quotient with decimal value\n",
        "    res = num1 / num2\n",
        "    print(\"Result = \", res)\n",
        " \n",
        "  elif choice == 5:\n",
        "    exit()\n",
        "else:\n",
        "  print(\"Wrong input..!!\")"
      ],
      "execution_count": 0,
      "outputs": [
        {
          "output_type": "stream",
          "text": [
            "Enter your choice:n3\n",
            "Enter two numbers: \n",
            "4\n",
            "6\n",
            "Result =  24\n"
          ],
          "name": "stdout"
        }
      ]
    },
    {
      "cell_type": "markdown",
      "metadata": {
        "id": "NKHK2d9C4vdF",
        "colab_type": "text"
      },
      "source": [
        " Find the compound interest for the given p,n,r"
      ]
    },
    {
      "cell_type": "code",
      "metadata": {
        "id": "98P8NKMI43kt",
        "colab_type": "code",
        "outputId": "2b395c06-59f0-4309-8e1d-c755e7f28f56",
        "colab": {
          "base_uri": "https://localhost:8080/",
          "height": 156
        }
      },
      "source": [
        " \n",
        " \n",
        "p = float(input(\"Enter the principle amount : \"))\n",
        "r = float(input(\"Enter the rate of interest : \"))\n",
        "n = float(input(\"Enter the time in the years: \"))\n",
        "ci =  p * (pow((1 + r / 100), n)) \n",
        " \n",
        "# printing the values\n",
        "print(\"Principle amount  : \", p)\n",
        "print(\"Interest rate     : \", r)\n",
        "print(\"Time in years     : \", n)\n",
        "print(\"compound Interest : \", ci)"
      ],
      "execution_count": 0,
      "outputs": [
        {
          "output_type": "stream",
          "text": [
            "Enter the principle amount : 5000\n",
            "Enter the rate of interest : 2\n",
            "Enter the time in the years: 1\n",
            "Principle amount  :  5000.0\n",
            "Interest rate     :  2.0\n",
            "Time in years     :  1.0\n",
            "compound Interest :  5100.0\n"
          ],
          "name": "stdout"
        }
      ]
    },
    {
      "cell_type": "markdown",
      "metadata": {
        "id": "4N9nhHLg7dXt",
        "colab_type": "text"
      },
      "source": [
        " Convert centegrade to farenheit"
      ]
    },
    {
      "cell_type": "code",
      "metadata": {
        "id": "ZRNM89uM8JJA",
        "colab_type": "code",
        "outputId": "b5fbb333-2266-4f2e-b24b-0abdf0923a56",
        "colab": {
          "base_uri": "https://localhost:8080/",
          "height": 71
        }
      },
      "source": [
        " celsius=int(input(\"Enter the temperature in celcius:\"))\n",
        "f=(celsius*1.8)+32\n",
        "print(\"Temperature in farenheit is:\",f)"
      ],
      "execution_count": 0,
      "outputs": [
        {
          "output_type": "stream",
          "text": [
            "Enter the temperature in celcius:46\n",
            "Temperature in farenheit is: 114.8\n"
          ],
          "name": "stdout"
        }
      ]
    },
    {
      "cell_type": "markdown",
      "metadata": {
        "id": "8AX67K3k8OvF",
        "colab_type": "text"
      },
      "source": [
        " Find the greater of two nos"
      ]
    },
    {
      "cell_type": "code",
      "metadata": {
        "id": "_TeKc5CN9HdP",
        "colab_type": "code",
        "outputId": "d86d5f03-28c3-4059-fe07-e218737beb03",
        "colab": {
          "base_uri": "https://localhost:8080/",
          "height": 68
        }
      },
      "source": [
        " number1 = int(input(\"Enter first number: \"))\n",
        "number2 = int(input(\"Enter second number: \"))\n",
        "if (number1 == number2):\n",
        "    print(number1, \" is equal to \", number2)\n",
        "elif (number1 > number2):\n",
        "    print(number1, \" is larger than \", number2)\n",
        "else:\n",
        "    print(number1, \" is lesser than \", number2)"
      ],
      "execution_count": 0,
      "outputs": [
        {
          "output_type": "stream",
          "text": [
            "Enter first number: 44\n",
            "Enter second number: 26\n",
            "44  is larger than  26\n"
          ],
          "name": "stdout"
        }
      ]
    },
    {
      "cell_type": "markdown",
      "metadata": {
        "id": "s7gTz23Mp1PH",
        "colab_type": "text"
      },
      "source": [
        " Write a program for finding surface areas of cylinder and cone (2*PI*r*r*h, 1/3*PI*r*r*h) using function."
      ]
    },
    {
      "cell_type": "code",
      "metadata": {
        "id": "zl1tK1Eek3d3",
        "colab_type": "code",
        "outputId": "9c1de92a-bfe8-4f36-85b8-66340ce9a33a",
        "colab": {
          "base_uri": "https://localhost:8080/",
          "height": 139
        }
      },
      "source": [
        " \n",
        "def cylarea(r, h):\n",
        "  return 2*3.14*r**2*h\n",
        "def conearea(r, h):\n",
        "  return 1/3*3.14*r**2*h\n",
        "r1 = int(input(\"Enter The Radius Of Cylinder: \"))\n",
        "h1 = int(input(\"Enter The Height Of Cylinder: \"))\n",
        "print(f\"Surface Area Of Cylinder Is: {cylarea(r1, h1)}\")\n",
        "r2 = int(input(\"Enter The Radius Of Cone: \"))\n",
        "h2 = int(input(\"Enter The Height Of Cone: \"))\n",
        "print(f\"Surface Area Of Cone Is: {conearea(r2, h2)}\")"
      ],
      "execution_count": 0,
      "outputs": [
        {
          "output_type": "stream",
          "text": [
            "Enter The Radius Of Cylinder: 4\n",
            "Enter The Height Of Cylinder: 6\n",
            "Surface Area Of Cylinder Is: 602.88\n",
            "Enter The Radius Of Cone: 2\n",
            "Enter The Height Of Cone: 3\n",
            "Surface Area Of Cone Is: 12.559999999999999\n"
          ],
          "name": "stdout"
        }
      ]
    },
    {
      "cell_type": "markdown",
      "metadata": {
        "id": "1j8aUwcmqAjU",
        "colab_type": "text"
      },
      "source": [
        " Find the greatest of four nos ( using ‘and’ operator)   using function."
      ]
    },
    {
      "cell_type": "code",
      "metadata": {
        "id": "qFwXW0BNlPe5",
        "colab_type": "code",
        "outputId": "d6d676a2-9463-428a-d9db-8cb4cecb9e5c",
        "colab": {
          "base_uri": "https://localhost:8080/",
          "height": 102
        }
      },
      "source": [
        " \n",
        "n1 = int(input(\"Enter The First Number: \"))\n",
        "n2 = int(input(\"Enter The Second Number: \"))\n",
        "n3 = int(input(\"Enter The Third Number: \"))\n",
        "n4 = int(input(\"Enter The Fourth Number: \"))\n",
        "if(n1>n2 and n1>n3 and n1>n4):\n",
        "  print(f\"{n1} Is Greater Than {n2}, {n3}, {n4}\")\n",
        "elif(n2>n1 and n2>n3 and n2>n4):\n",
        "  print(f\"{n2} Is Greater Than {n1}, {n3}, {n4}\")\n",
        "elif(n3>n1 and n3>n2 and n3>n4):\n",
        "  print(f\"{n3} Is Greater Than {n1}, {n2}, {n4}\")\n",
        "else:\n",
        "  print(f\"{n4} Is Greater Than {n1}, {n2}, {n3}\")"
      ],
      "execution_count": 0,
      "outputs": [
        {
          "output_type": "stream",
          "text": [
            "Enter The First Number: 4\n",
            "Enter The Second Number: 8\n",
            "Enter The Third Number: 3\n",
            "Enter The Fourth Number: 6\n",
            "8 Is Greater Than 4, 3, 6\n"
          ],
          "name": "stdout"
        }
      ]
    },
    {
      "cell_type": "markdown",
      "metadata": {
        "id": "fBDtREoslnBE",
        "colab_type": "text"
      },
      "source": [
        " Write a  menu program to perform the operations ( ODDorEven, Factorial, ODDNoUptoN, PrimeUptoN ) using functions for two nos with  menu choice"
      ]
    },
    {
      "cell_type": "code",
      "metadata": {
        "id": "1Qw3k7LVln0m",
        "colab_type": "code",
        "outputId": "5970e770-ea37-47da-b2f2-9cfe4bd84318",
        "colab": {
          "base_uri": "https://localhost:8080/",
          "height": 612
        }
      },
      "source": [
        " \n",
        "loop = 1\n",
        "choice = 0\n",
        "def OddorEven(n):\n",
        "  if(n%2==0):\n",
        "    return True\n",
        "def fact(f):\n",
        "  s=1\n",
        "  while(f>0):\n",
        "    s=s*f\n",
        "    f=f-1\n",
        "  print(f\"Factorial Of {f} Is: {s}\")\n",
        "def Odd(o):\n",
        "  for i in range(o+1):\n",
        "    if(i%2 != 0):\n",
        "      print(i, end=' ')\n",
        "def prime(p):\n",
        "  c=0\n",
        "  print(2, end=' ')\n",
        "  for i in range(3,p+1):\n",
        "    for j in range(2,i):\n",
        "      if(i % j == 0):\n",
        "        c=1\n",
        "        break\n",
        "    if(c==0):\n",
        "      print(i, end=' ')\n",
        "    c=0\n",
        " \n",
        "while loop == 1:\n",
        "    print(\" \")\n",
        "    print (\"your options are:\")\n",
        "    print (\" \")\n",
        "    print(\"1) Odd or Even\")\n",
        "    print(\"2) Factorial\")\n",
        "    print(\"3) Odd Number Upto N\")\n",
        "    print(\"4) Prime Number upto N\")\n",
        "    print(\"5) Quit\")\n",
        "    print(\" \")\n",
        "    try:\n",
        "        choice = int(input(\"Choose your option: \"))\n",
        "    except:\n",
        "        print('please enter a valid number for option')\n",
        "    print(\" \")\n",
        "    if choice == 1:\n",
        "      n = int(input(\"Enter The Number: \"))\n",
        "      if(OddorEven(n)):\n",
        "        print(\"The Number Is Even\")\n",
        "      else:\n",
        "        print(\"The Number Is Odd\")\n",
        "    elif choice == 2:\n",
        "      f = int(input(\"Enter The Number: \"))\n",
        "      fact(f)\n",
        "    elif choice == 3:\n",
        "      o = int(input(\"Enter The Number: \"))\n",
        "      Odd(o)\n",
        "    elif choice == 4:\n",
        "      p = int(input(\"Enter The Number: \"))\n",
        "      prime(p)\n",
        "    elif choice == 5:\n",
        "      loop = 0\n",
        "    else:\n",
        "      print(\"please choice a valid option from 1 to 5\")\n",
        "      choice=0"
      ],
      "execution_count": 0,
      "outputs": [
        {
          "output_type": "stream",
          "text": [
            " \n",
            "your options are:\n",
            " \n",
            "1) Odd or Even\n",
            "2) Factorial\n",
            "3) Odd Number Upto N\n",
            "4) Prime Number upto N\n",
            "5) Quit\n",
            " \n",
            "Choose your option: 3\n",
            " \n",
            "Enter The Number: 4\n",
            "1 3  \n",
            "your options are:\n",
            " \n",
            "1) Odd or Even\n",
            "2) Factorial\n",
            "3) Odd Number Upto N\n",
            "4) Prime Number upto N\n",
            "5) Quit\n",
            " \n",
            "Choose your option: 4\n",
            " \n",
            "Enter The Number: 2\n",
            "2  \n",
            "your options are:\n",
            " \n",
            "1) Odd or Even\n",
            "2) Factorial\n",
            "3) Odd Number Upto N\n",
            "4) Prime Number upto N\n",
            "5) Quit\n",
            " \n",
            "Choose your option: 5\n",
            " \n"
          ],
          "name": "stdout"
        }
      ]
    },
    {
      "cell_type": "markdown",
      "metadata": {
        "id": "WThDTHQRcwnQ",
        "colab_type": "text"
      },
      "source": [
        " Python Program to find the factorial of a number using loop"
      ]
    },
    {
      "cell_type": "code",
      "metadata": {
        "id": "LpJ282Opczwz",
        "colab_type": "code",
        "outputId": "2e5542d8-947d-4e22-c9e9-65aef3685c7b",
        "colab": {
          "base_uri": "https://localhost:8080/",
          "height": 68
        }
      },
      "source": [
        " \n",
        "n=int(input(\"Enter number:\"))\n",
        "fact=1\n",
        " \n",
        "while(n>0):\n",
        "    fact=fact*n\n",
        "    n=n-1\n",
        "print(\"Factorial of the number is: \")\n",
        "print(fact)"
      ],
      "execution_count": 0,
      "outputs": [
        {
          "output_type": "stream",
          "text": [
            "Enter number:4\n",
            "Factorial of the number is: \n",
            "24\n"
          ],
          "name": "stdout"
        }
      ]
    },
    {
      "cell_type": "markdown",
      "metadata": {
        "id": "ayk5WaUZdKC0",
        "colab_type": "text"
      },
      "source": [
        " Python Program to reverse a number using loop"
      ]
    },
    {
      "cell_type": "code",
      "metadata": {
        "id": "QGgB73s_dQDh",
        "colab_type": "code",
        "outputId": "ac27c95f-19be-4cdb-8378-7801a3dd196c",
        "colab": {
          "base_uri": "https://localhost:8080/",
          "height": 68
        }
      },
      "source": [
        " \n",
        "r=0\n",
        "n=int(input(\"Enter a number: \"))\n",
        "while(n>0):\n",
        "    dig=n%10\n",
        "    r=r*10+dig\n",
        "    n=n//10\n",
        "print(\"The reversed no  is:\")\n",
        "print(r)"
      ],
      "execution_count": 0,
      "outputs": [
        {
          "output_type": "stream",
          "text": [
            "Enter a number: 6528\n",
            "The reversed no  is:\n",
            "8256\n"
          ],
          "name": "stdout"
        }
      ]
    },
    {
      "cell_type": "markdown",
      "metadata": {
        "id": "B39bJltfdnAf",
        "colab_type": "text"
      },
      "source": [
        " Write a Python program to construct the following pattern, using a nested for loop.\n",
        "* \n",
        "* * \n",
        "* * * \n",
        "* * * * \n",
        "* * * * * \n",
        "* * * * \n",
        "* * * \n",
        "* * \n",
        "*"
      ]
    },
    {
      "cell_type": "code",
      "metadata": {
        "id": "IWgSfoKedoRF",
        "colab_type": "code",
        "colab": {}
      },
      "source": [
        " \n",
        "for i in range(n):\n",
        "    for j in range(i):\n",
        "        print ('* ', end=\"\")\n",
        "    print('')\n",
        " \n",
        "for i in range(n,0,-1):\n",
        "    for j in range(i):\n",
        "        print('* ', end=\"\")\n",
        "    print('')"
      ],
      "execution_count": 0,
      "outputs": []
    },
    {
      "cell_type": "markdown",
      "metadata": {
        "id": "qGWSvxSdeDNB",
        "colab_type": "text"
      },
      "source": [
        " Python Program to replace all occurrences of ‘a’ with ‘$’ in a string."
      ]
    },
    {
      "cell_type": "code",
      "metadata": {
        "id": "WMLWFY1meEu4",
        "colab_type": "code",
        "outputId": "3f57c961-6848-4d13-bca2-94a5b55a6247",
        "colab": {
          "base_uri": "https://localhost:8080/",
          "height": 68
        }
      },
      "source": [
        " \n",
        "string=input(\"Enter string:\")\n",
        "string=string.replace('a','$')\n",
        "string=string.replace('A','$')\n",
        "print(\"Modified string:\")\n",
        "print(string)"
      ],
      "execution_count": 0,
      "outputs": [
        {
          "output_type": "stream",
          "text": [
            "Enter string:Surya\n",
            "Modified string:\n",
            "Sury$\n"
          ],
          "name": "stdout"
        }
      ]
    },
    {
      "cell_type": "markdown",
      "metadata": {
        "id": "5DJFTu4jeU4q",
        "colab_type": "text"
      },
      "source": [
        " Python Program to remove the nth index character from a non-empty string."
      ]
    },
    {
      "cell_type": "code",
      "metadata": {
        "id": "upD20JhDeWAs",
        "colab_type": "code",
        "outputId": "b575630b-f114-4039-d696-db199cd258a5",
        "colab": {
          "base_uri": "https://localhost:8080/",
          "height": 105
        }
      },
      "source": [
        " \n",
        "def remove(string, n):  \n",
        "      first = string[:n]   \n",
        "      last = string[n+1:]  \n",
        "      return first + last\n",
        "string=input(\"Enter the sring:\")\n",
        "n=int(input(\"Enter the index of the character to remove:\"))\n",
        "print(\"Modified string:\")\n",
        "print(remove(string, n))"
      ],
      "execution_count": 0,
      "outputs": [
        {
          "output_type": "stream",
          "text": [
            "Enter the sring:Surya\n",
            "Enter the index of the character to remove:2\n",
            "Modified string:\n",
            "Suya\n"
          ],
          "name": "stdout"
        }
      ]
    },
    {
      "cell_type": "markdown",
      "metadata": {
        "id": "nT3GbX58eiYE",
        "colab_type": "text"
      },
      "source": [
        " Python Program to detect if two strings are anagrams."
      ]
    },
    {
      "cell_type": "code",
      "metadata": {
        "id": "EntnT4KNepKz",
        "colab_type": "code",
        "outputId": "5d01d0ad-30dd-45ae-ddb7-418e0115d235",
        "colab": {
          "base_uri": "https://localhost:8080/",
          "height": 68
        }
      },
      "source": [
        " \n",
        "s1=input(\"Enter first string:\")\n",
        "s2=input(\"Enter second string:\")\n",
        "if(sorted(s1)==sorted(s2)):\n",
        "      print(\"The strings are anagrams.\")\n",
        "else:\n",
        "      print(\"The strings aren't anagrams.\")"
      ],
      "execution_count": 0,
      "outputs": [
        {
          "output_type": "stream",
          "text": [
            "Enter first string:Surya\n",
            "Enter second string:Prakash\n",
            "The strings aren't anagrams.\n"
          ],
          "name": "stdout"
        }
      ]
    },
    {
      "cell_type": "markdown",
      "metadata": {
        "id": "NUwArKl3fbmP",
        "colab_type": "text"
      },
      "source": [
        " Python Program to form a string where the first character and the last character have been exchanged."
      ]
    },
    {
      "cell_type": "code",
      "metadata": {
        "id": "XQ6MzZoPfckJ",
        "colab_type": "code",
        "outputId": "56da7962-8967-477f-deb3-986cd25054ef",
        "colab": {
          "base_uri": "https://localhost:8080/",
          "height": 68
        }
      },
      "source": [
        " \n",
        "def change(string):\n",
        "      return string[-1:] + string[1:-1] + string[:1]\n",
        "string=input(\"Enter string:\")\n",
        "print(\"Modified string:\")\n",
        "print(change(string))"
      ],
      "execution_count": 0,
      "outputs": [
        {
          "output_type": "stream",
          "text": [
            "Enter string:Surya\n",
            "Modified string:\n",
            "auryS\n"
          ],
          "name": "stdout"
        }
      ]
    },
    {
      "cell_type": "markdown",
      "metadata": {
        "id": "aJTOmw3Tfjtb",
        "colab_type": "text"
      },
      "source": [
        " Python Program to  count number of vowels from a non-empty string."
      ]
    },
    {
      "cell_type": "code",
      "metadata": {
        "id": "VkmnwB1gfo0j",
        "colab_type": "code",
        "outputId": "1f76dcbb-c645-4d36-c0e2-537f19959228",
        "colab": {
          "base_uri": "https://localhost:8080/",
          "height": 68
        }
      },
      "source": [
        " \n",
        "string=input(\"Enter string:\")\n",
        "vowels=0\n",
        "for i in string:\n",
        "      if(i=='a' or i=='e' or i=='i' or i=='o' or i=='u' or i=='A' or i=='E' or i=='I' or i=='O' or i=='U'):\n",
        "            vowels=vowels+1\n",
        "print(\"Number of vowels are:\")\n",
        "print(vowels)"
      ],
      "execution_count": 0,
      "outputs": [
        {
          "output_type": "stream",
          "text": [
            "Enter string:Surya\n",
            "Number of vowels are:\n",
            "2\n"
          ],
          "name": "stdout"
        }
      ]
    },
    {
      "cell_type": "markdown",
      "metadata": {
        "id": "NYsRToJ_fw8m",
        "colab_type": "text"
      },
      "source": [
        " Program for Divide by zero error detection"
      ]
    },
    {
      "cell_type": "code",
      "metadata": {
        "id": "8qjxWVKDf1Z5",
        "colab_type": "code",
        "outputId": "d3e893e5-84e0-4023-8fe5-277c654e03fa",
        "colab": {
          "base_uri": "https://localhost:8080/",
          "height": 258
        }
      },
      "source": [
        "6\n",
        "flag = True\n",
        " \n",
        "def div(a, b):  \n",
        "       try:\n",
        "            print(\"Finally the division of %d/%d is %f\" % (a, b,a/b))\n",
        "            global flag\n",
        "            flag=False\n",
        "       except ZeroDivisionError:\n",
        "            print(\"Zero Division Error detected\")\n",
        "       else:\n",
        "            print(\"Division is successful\") \n",
        "       finally:\n",
        "            if flag is True:\n",
        "               print(\"Try again\")     \n",
        "            else:\n",
        "               print(\"Thank you\")\n",
        "       \n",
        "#global flag\n",
        " \n",
        "while flag is True:\n",
        "    div(int(input(\"Enter numerator\")),int(input(\"Enter denominator\")))"
      ],
      "execution_count": 0,
      "outputs": [
        {
          "output_type": "stream",
          "text": [
            "Enter numerator6\n",
            "Enter denominator0\n",
            "Zero Division Error detected\n",
            "Try again\n",
            "Enter numerator7\n",
            "Enter denominator0\n",
            "Zero Division Error detected\n",
            "Try again\n",
            "Enter numerator5\n",
            "Enter denominator6\n",
            "Finally the division of 5/6 is 0.833333\n",
            "Division is successful\n",
            "Thank you\n"
          ],
          "name": "stdout"
        }
      ]
    },
    {
      "cell_type": "markdown",
      "metadata": {
        "id": "w5OjFKNygP4X",
        "colab_type": "text"
      },
      "source": [
        " Program for ValueError error detection"
      ]
    },
    {
      "cell_type": "code",
      "metadata": {
        "id": "zK18koBogVL6",
        "colab_type": "code",
        "outputId": "e0069633-8974-4dfe-806f-8a06a634729a",
        "colab": {
          "base_uri": "https://localhost:8080/",
          "height": 71
        }
      },
      "source": [
        " \n",
        "while True:\n",
        "     try:\n",
        "         x = int(input(\"Please enter a number: \"))\n",
        "         print(\" That was valid number. Thank you\")\n",
        "         break\n",
        "     except ValueError:\n",
        "         print(\"Oops!  That was no valid number.  Try again...\")"
      ],
      "execution_count": 0,
      "outputs": [
        {
          "output_type": "stream",
          "text": [
            "Please enter a number: 4\n",
            " That was valid number. Thank you\n"
          ],
          "name": "stdout"
        }
      ]
    },
    {
      "cell_type": "markdown",
      "metadata": {
        "id": "ZTsyRQHZmgaV",
        "colab_type": "text"
      },
      "source": [
        " 1 Write a program to print the triangle \n",
        "i/p  4\n",
        " \n",
        "1\n",
        "2    3\n",
        "3    4   5\n",
        "4    5   6   7"
      ]
    },
    {
      "cell_type": "code",
      "metadata": {
        "id": "vAkUvdF4miBw",
        "colab_type": "code",
        "outputId": "16c20280-03ab-4bf7-e085-b99d0aadd6bb",
        "colab": {
          "base_uri": "https://localhost:8080/",
          "height": 170
        }
      },
      "source": [
        " \n",
        "n = int(input(\"Enter The N Value:\"))\n",
        "c=1\n",
        "for i in range(n):\n",
        "  for j in range(i+1):\n",
        "    print(c, end=' ')\n",
        "    c+=1\n",
        "  print(\"\\n\")\n",
        "  c=c-i"
      ],
      "execution_count": 0,
      "outputs": [
        {
          "output_type": "stream",
          "text": [
            "Enter The N Value:4\n",
            "1 \n",
            "\n",
            "2 3 \n",
            "\n",
            "3 4 5 \n",
            "\n",
            "4 5 6 7 \n",
            "\n"
          ],
          "name": "stdout"
        }
      ]
    },
    {
      "cell_type": "markdown",
      "metadata": {
        "id": "2RVtcAwBmzUe",
        "colab_type": "text"
      },
      "source": [
        " \n",
        "2 Enter number 4\n",
        " \n",
        "*\n",
        "* *\n",
        "* * *\n",
        "* * * *"
      ]
    },
    {
      "cell_type": "code",
      "metadata": {
        "id": "h7GKlGgFm1IO",
        "colab_type": "code",
        "outputId": "3a8876e3-4811-49c6-f85a-14f193d92f52",
        "colab": {
          "base_uri": "https://localhost:8080/",
          "height": 102
        }
      },
      "source": [
        " \n",
        "n = int(input(\"Enter The Number:\"))\n",
        "for i in range(n):\n",
        "  print(\"*\"*(i+1))"
      ],
      "execution_count": 0,
      "outputs": [
        {
          "output_type": "stream",
          "text": [
            "Enter The Number:4\n",
            "*\n",
            "**\n",
            "***\n",
            "****\n"
          ],
          "name": "stdout"
        }
      ]
    },
    {
      "cell_type": "markdown",
      "metadata": {
        "id": "vxRux-VJnA-_",
        "colab_type": "text"
      },
      "source": [
        " Enter number 5\n",
        " \n",
        "5\n",
        "4 5\n",
        "3 4 5\n",
        "2 3 4 5\n",
        "1 2 3 4 5"
      ]
    },
    {
      "cell_type": "code",
      "metadata": {
        "id": "Woayx2-qnL9e",
        "colab_type": "code",
        "outputId": "0780591a-cd3f-4256-ffc2-88ab459942b4",
        "colab": {
          "base_uri": "https://localhost:8080/",
          "height": 204
        }
      },
      "source": [
        " \n",
        "n = int(input(\"Enter The Number:\"))\n",
        "c=n\n",
        "for i in range(n):\n",
        "  c=c-i\n",
        "  for j in range(i+1):\n",
        "    print(c, end=\" \")\n",
        "    c+=1\n",
        "  c-=1\n",
        "  print(\"\\n\")"
      ],
      "execution_count": 0,
      "outputs": [
        {
          "output_type": "stream",
          "text": [
            "Enter The Number:5\n",
            "5 \n",
            "\n",
            "4 5 \n",
            "\n",
            "3 4 5 \n",
            "\n",
            "2 3 4 5 \n",
            "\n",
            "1 2 3 4 5 \n",
            "\n"
          ],
          "name": "stdout"
        }
      ]
    },
    {
      "cell_type": "markdown",
      "metadata": {
        "id": "hWcemtXFnVw3",
        "colab_type": "text"
      },
      "source": [
        "   Enter number 5\n",
        " \n",
        "5 4 3 2 1\n",
        "4 3 2 1\n",
        "3 2 1\n",
        "2 1\n",
        "1"
      ]
    },
    {
      "cell_type": "code",
      "metadata": {
        "id": "fUStJ9o0neoD",
        "colab_type": "code",
        "outputId": "7ef9af04-1ca0-4099-a884-06a81c9f6ce0",
        "colab": {
          "base_uri": "https://localhost:8080/",
          "height": 204
        }
      },
      "source": [
        " \n",
        "n = int(input(\"Enter The Number:\"))\n",
        "for i in range(n):\n",
        "  c=n-i\n",
        "  for j in range(n-i):\n",
        "    print(c, end=' ')\n",
        "    c-=1\n",
        "  print(\"\\n\")"
      ],
      "execution_count": 0,
      "outputs": [
        {
          "output_type": "stream",
          "text": [
            "Enter The Number:5\n",
            "5 4 3 2 1 \n",
            "\n",
            "4 3 2 1 \n",
            "\n",
            "3 2 1 \n",
            "\n",
            "2 1 \n",
            "\n",
            "1 \n",
            "\n"
          ],
          "name": "stdout"
        }
      ]
    },
    {
      "cell_type": "markdown",
      "metadata": {
        "id": "gqSvD1yunq5m",
        "colab_type": "text"
      },
      "source": [
        "  Enter number 4\n",
        " \n",
        "1 2 3 4\n",
        "2 3 4\n",
        "3 4\n",
        "4\n",
        "3 4\n",
        "2 3 4\n",
        "1 2 3 4"
      ]
    },
    {
      "cell_type": "code",
      "metadata": {
        "id": "5k-t9Z9lnz2P",
        "colab_type": "code",
        "outputId": "7b37a27f-dd7f-4c4a-fb3e-1d836fc66b6f",
        "colab": {
          "base_uri": "https://localhost:8080/",
          "height": 272
        }
      },
      "source": [
        " \n",
        "n = int(input(\"Enter The Number:\"))\n",
        "for i in range(n):\n",
        "  c=i+1\n",
        "  for j in range(n-i):\n",
        "    print(c, end=' ')\n",
        "    c+=1\n",
        "  print(\"\\n\")\n",
        "for i in range(n-1):\n",
        "  c=n-i-1\n",
        "  for j in range(i+2):\n",
        "    print(c, end=' ')\n",
        "    c+=1\n",
        "  print(\"\\n\")"
      ],
      "execution_count": 0,
      "outputs": [
        {
          "output_type": "stream",
          "text": [
            "Enter The Number:4\n",
            "1 2 3 4 \n",
            "\n",
            "2 3 4 \n",
            "\n",
            "3 4 \n",
            "\n",
            "4 \n",
            "\n",
            "3 4 \n",
            "\n",
            "2 3 4 \n",
            "\n",
            "1 2 3 4 \n",
            "\n"
          ],
          "name": "stdout"
        }
      ]
    },
    {
      "cell_type": "markdown",
      "metadata": {
        "id": "LTim26RBoI4x",
        "colab_type": "text"
      },
      "source": [
        " \n",
        "6 Find the length of a string without using len functions"
      ]
    },
    {
      "cell_type": "code",
      "metadata": {
        "id": "nwaHCFa_oMq3",
        "colab_type": "code",
        "outputId": "16f3f008-3609-4aa8-948a-246d1ce4e36b",
        "colab": {
          "base_uri": "https://localhost:8080/",
          "height": 51
        }
      },
      "source": [
        " \n",
        "c = 0\n",
        "for i in input(\"Enter The String: \"):\n",
        "    c += 1\n",
        "print(f'The Length Of String Is: {c}')"
      ],
      "execution_count": 0,
      "outputs": [
        {
          "output_type": "stream",
          "text": [
            "Enter The String: Surya\n",
            "The Length Of String Is: 5\n"
          ],
          "name": "stdout"
        }
      ]
    },
    {
      "cell_type": "markdown",
      "metadata": {
        "id": "9IGpfjnNoWur",
        "colab_type": "text"
      },
      "source": [
        "Find the no of words and characters in a string"
      ]
    },
    {
      "cell_type": "code",
      "metadata": {
        "id": "VND66CFwojje",
        "colab_type": "code",
        "outputId": "139770a9-abf0-4f20-c024-0687bdbee363",
        "colab": {
          "base_uri": "https://localhost:8080/",
          "height": 88
        }
      },
      "source": [
        " \n",
        "s = input(\"Enter The String: \")\n",
        "c = 0\n",
        "for i in s:\n",
        "    if i == \" \":\n",
        "        c += 1\n",
        "print(f'The Number Of Words In A String Is: {c + 1} \\nThe Number Of Characters In A String Is: {len(s)}')"
      ],
      "execution_count": 0,
      "outputs": [
        {
          "output_type": "stream",
          "text": [
            "Enter The String: Surya\n",
            "The Number Of Words In A String Is: 1 \n",
            "The Number Of Characters In A String Is: 5\n"
          ],
          "name": "stdout"
        }
      ]
    },
    {
      "cell_type": "markdown",
      "metadata": {
        "id": "-zJQGA0eo1n8",
        "colab_type": "text"
      },
      "source": [
        "  Find the no of occurrences of a word in a string"
      ]
    },
    {
      "cell_type": "code",
      "metadata": {
        "id": "QkrnZV8oo3lN",
        "colab_type": "code",
        "outputId": "e19d39a7-8627-4eae-ccb8-037875d8ee12",
        "colab": {
          "base_uri": "https://localhost:8080/",
          "height": 88
        }
      },
      "source": [
        " \n",
        "def countOccurences(s, w):   \n",
        "       \n",
        "    return c        \n",
        "s = input(\"Enter The Main String: \").lower()\n",
        "w = input(\"Enter Comparision String: \")\n",
        "a = s.split(\" \") \n",
        "c = 0\n",
        "for i in range(0, len(a)): \n",
        "  if (w == a[i]):\n",
        "    c = c + 1    \n",
        "print(c)"
      ],
      "execution_count": 0,
      "outputs": [
        {
          "output_type": "stream",
          "text": [
            "Enter The Main String: Surya Prakash\n",
            "Enter Comparision String: Raja\n",
            "0\n"
          ],
          "name": "stdout"
        }
      ]
    }
  ]
}